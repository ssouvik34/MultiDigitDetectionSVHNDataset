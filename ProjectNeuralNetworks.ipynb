{
 "cells": [
  {
   "cell_type": "markdown",
   "metadata": {
    "colab_type": "text",
    "id": "pIWfZ8UfzszM"
   },
   "source": [
    "Mounting personal Google Drive to use the dataset from drive"
   ]
  },
  {
   "cell_type": "code",
   "execution_count": 1,
   "metadata": {
    "colab": {
     "base_uri": "https://localhost:8080/",
     "height": 121
    },
    "colab_type": "code",
    "id": "T_-AuYnbzQ-e",
    "outputId": "5cb1e592-a3d3-4501-c746-c41fcefc56e2"
   },
   "outputs": [
    {
     "name": "stdout",
     "output_type": "stream",
     "text": [
      "Go to this URL in a browser: https://accounts.google.com/o/oauth2/auth?client_id=947318989803-6bn6qk8qdgf4n4g3pfee6491hc0brc4i.apps.googleusercontent.com&redirect_uri=urn%3aietf%3awg%3aoauth%3a2.0%3aoob&response_type=code&scope=email%20https%3a%2f%2fwww.googleapis.com%2fauth%2fdocs.test%20https%3a%2f%2fwww.googleapis.com%2fauth%2fdrive%20https%3a%2f%2fwww.googleapis.com%2fauth%2fdrive.photos.readonly%20https%3a%2f%2fwww.googleapis.com%2fauth%2fpeopleapi.readonly\n",
      "\n",
      "Enter your authorization code:\n",
      "··········\n",
      "Mounted at /content/drive\n"
     ]
    }
   ],
   "source": [
    "from google.colab import drive\n",
    "drive.mount('/content/drive')"
   ]
  },
  {
   "cell_type": "markdown",
   "metadata": {
    "colab_type": "text",
    "id": "seeyFw850Itm"
   },
   "source": [
    "Importing all the necessary libraries"
   ]
  },
  {
   "cell_type": "code",
   "execution_count": 0,
   "metadata": {
    "colab": {},
    "colab_type": "code",
    "id": "gyK1Xzwoz52p"
   },
   "outputs": [],
   "source": [
    "%tensorflow_version 2.x\n",
    "import h5py\n",
    "import matplotlib.pyplot as plt\n",
    "%matplotlib inline\n",
    "import pandas as pd\n",
    "from tensorflow.keras.utils import to_categorical\n",
    "from sklearn.neighbors import KNeighborsClassifier\n",
    "from sklearn import metrics\n",
    "from tensorflow.keras.models import Sequential\n",
    "from tensorflow.keras.layers import Activation, Dense\n",
    "from tensorflow.keras import optimizers\n",
    "from tensorflow.keras.layers import BatchNormalization, Dropout\n",
    "from sklearn.metrics import accuracy_score, confusion_matrix, precision_score, recall_score, f1_score, precision_recall_curve, auc"
   ]
  },
  {
   "cell_type": "markdown",
   "metadata": {
    "colab_type": "text",
    "id": "bYcrLsVW0fSz"
   },
   "source": [
    "Reading the dataset"
   ]
  },
  {
   "cell_type": "code",
   "execution_count": 0,
   "metadata": {
    "colab": {},
    "colab_type": "code",
    "id": "yruGpyWD2dk3"
   },
   "outputs": [],
   "source": [
    "h5f = h5py.File('/content/drive/My Drive/DL/Project1/data/SVHN_single_grey1.h5', 'r')"
   ]
  },
  {
   "cell_type": "markdown",
   "metadata": {
    "colab_type": "text",
    "id": "EemFTP8F24NR"
   },
   "source": [
    "Dividing into Training ans Test Sets"
   ]
  },
  {
   "cell_type": "code",
   "execution_count": 4,
   "metadata": {
    "colab": {
     "base_uri": "https://localhost:8080/",
     "height": 50
    },
    "colab_type": "code",
    "id": "AeAdOe3-2hA1",
    "outputId": "b7edebc3-cd20-460c-8d8c-4ea573a6cd0b"
   },
   "outputs": [
    {
     "name": "stdout",
     "output_type": "stream",
     "text": [
      "Training set (42000, 32, 32) (42000,)\n",
      "Test set (18000, 32, 32) (18000,)\n"
     ]
    }
   ],
   "source": [
    "X_train = h5f['X_train'][:]\n",
    "y_train = h5f['y_train'][:]\n",
    "\n",
    "X_test = h5f['X_test'][:]\n",
    "y_test = h5f['y_test'][:]\n",
    "\n",
    "h5f.close()\n",
    "\n",
    "print('Training set', X_train.shape, y_train.shape)\n",
    "print('Test set', X_test.shape, y_test.shape)"
   ]
  },
  {
   "cell_type": "markdown",
   "metadata": {
    "colab_type": "text",
    "id": "3RknkWkN3FR_"
   },
   "source": [
    "Plotting the first 10 images and their corresponding labels"
   ]
  },
  {
   "cell_type": "code",
   "execution_count": 0,
   "metadata": {
    "colab": {
     "base_uri": "https://localhost:8080/",
     "height": 95
    },
    "colab_type": "code",
    "id": "_2orC5Fq29zO",
    "outputId": "43f34a7c-8ab3-471d-8187-d7ec48ef58ce"
   },
   "outputs": [
    {
     "data": {
      "image/png": "[encoded data removed]",
      "text/plain": [
       "<Figure size 720x72 with 10 Axes>"
      ]
     },
     "metadata": {
      "tags": []
     },
     "output_type": "display_data"
    },
    {
     "name": "stdout",
     "output_type": "stream",
     "text": [
      "label for each of the above image: [2 6 7 4 4 0 3 0 7 3]\n"
     ]
    }
   ],
   "source": [
    "plt.figure(figsize=(10, 1))\n",
    "for i in range(10):\n",
    "    plt.subplot(1, 10, i+1)\n",
    "    plt.imshow(X_train[i], cmap=\"gray\")\n",
    "    plt.axis('off')\n",
    "plt.show()\n",
    "print('label for each of the above image: %s' % (y_train[0:10]))"
   ]
  },
  {
   "cell_type": "markdown",
   "metadata": {
    "colab_type": "text",
    "id": "JqfhUir_3U5g"
   },
   "source": [
    "Randomly plotting a value from the test dataset"
   ]
  },
  {
   "cell_type": "code",
   "execution_count": 0,
   "metadata": {
    "colab": {
     "base_uri": "https://localhost:8080/",
     "height": 229
    },
    "colab_type": "code",
    "id": "fOs9b1Kn3O92",
    "outputId": "70853a59-6987-4503-8d16-c72408b3fbc0"
   },
   "outputs": [
    {
     "data": {
      "image/png": "[encoded data removed]",
      "text/plain": [
       "<Figure size 216x216 with 1 Axes>"
      ]
     },
     "metadata": {
      "tags": []
     },
     "output_type": "display_data"
    },
    {
     "name": "stdout",
     "output_type": "stream",
     "text": [
      "Label:  8\n"
     ]
    }
   ],
   "source": [
    "plt.figure(figsize=(3, 3))\n",
    "plt.imshow(X_test[10], cmap=\"gray\")    \n",
    "plt.show()\n",
    "print('Label: ', y_test[10])"
   ]
  },
  {
   "cell_type": "markdown",
   "metadata": {
    "colab_type": "text",
    "id": "dcpi7qup3uRI"
   },
   "source": [
    "Reshaping the 32X32 image to 1024 features"
   ]
  },
  {
   "cell_type": "code",
   "execution_count": 0,
   "metadata": {
    "colab": {},
    "colab_type": "code",
    "id": "oCvnxVAw3dT-"
   },
   "outputs": [],
   "source": [
    "X_train = X_train.reshape(X_train.shape[0], 1024)\n",
    "X_test = X_test.reshape(X_test.shape[0], 1024)"
   ]
  },
  {
   "cell_type": "markdown",
   "metadata": {
    "colab_type": "text",
    "id": "FJvSisjp34CH"
   },
   "source": [
    "Normalizing the features"
   ]
  },
  {
   "cell_type": "code",
   "execution_count": 0,
   "metadata": {
    "colab": {},
    "colab_type": "code",
    "id": "ugi10kG532jM"
   },
   "outputs": [],
   "source": [
    "X_train = X_train/255.0\n",
    "X_test = X_test/255.0"
   ]
  },
  {
   "cell_type": "markdown",
   "metadata": {
    "colab_type": "text",
    "id": "fYvSb22t4Hzu"
   },
   "source": [
    "Converting y data (labels) into categorical (one-hot encoding)"
   ]
  },
  {
   "cell_type": "code",
   "execution_count": 0,
   "metadata": {
    "colab": {},
    "colab_type": "code",
    "id": "cb3-Rz8-3_xr"
   },
   "outputs": [],
   "source": [
    "y_train = to_categorical(y_train)\n",
    "y_test = to_categorical(y_test)"
   ]
  },
  {
   "cell_type": "markdown",
   "metadata": {
    "colab_type": "text",
    "id": "-MvxvLEw_3IL"
   },
   "source": [
    "Printing the shape of the dataset (after one-hot encoding)"
   ]
  },
  {
   "cell_type": "code",
   "execution_count": 8,
   "metadata": {
    "colab": {
     "base_uri": "https://localhost:8080/",
     "height": 34
    },
    "colab_type": "code",
    "id": "b7_TrFTx_9nI",
    "outputId": "40e75096-25b5-419f-e450-64e8d68fd5d9"
   },
   "outputs": [
    {
     "name": "stdout",
     "output_type": "stream",
     "text": [
      "(42000, 1024) (18000, 1024) (42000, 10) (18000, 10)\n"
     ]
    }
   ],
   "source": [
    "print(X_train.shape, X_test.shape, y_train.shape, y_test.shape)"
   ]
  },
  {
   "cell_type": "markdown",
   "metadata": {
    "colab_type": "text",
    "id": "__wIIPrwAakw"
   },
   "source": [
    "Printing the first value of input"
   ]
  },
  {
   "cell_type": "code",
   "execution_count": 0,
   "metadata": {
    "colab": {
     "base_uri": "https://localhost:8080/",
     "height": 50
    },
    "colab_type": "code",
    "id": "M3e-BI2BAV4g",
    "outputId": "fee0ab6e-7a6d-4ee4-e6eb-cd863d553353"
   },
   "outputs": [
    {
     "data": {
      "text/plain": [
       "array([0.12968785, 0.11866706, 0.10530196, ..., 0.19477727, 0.19942354,\n",
       "       0.20799099], dtype=float32)"
      ]
     },
     "execution_count": 18,
     "metadata": {
      "tags": []
     },
     "output_type": "execute_result"
    }
   ],
   "source": [
    "X_train[0]"
   ]
  },
  {
   "cell_type": "markdown",
   "metadata": {
    "colab_type": "text",
    "id": "OWRbKqwHAjgd"
   },
   "source": [
    "Printing the first value of the label"
   ]
  },
  {
   "cell_type": "code",
   "execution_count": 0,
   "metadata": {
    "colab": {
     "base_uri": "https://localhost:8080/",
     "height": 34
    },
    "colab_type": "code",
    "id": "ppdNqvVDAnI5",
    "outputId": "6f50bbb3-b611-4a8e-df79-d4174962a10f"
   },
   "outputs": [
    {
     "data": {
      "text/plain": [
       "array([0., 0., 1., 0., 0., 0., 0., 0., 0., 0.], dtype=float32)"
      ]
     },
     "execution_count": 20,
     "metadata": {
      "tags": []
     },
     "output_type": "execute_result"
    }
   ],
   "source": [
    "y_train[0]"
   ]
  },
  {
   "cell_type": "markdown",
   "metadata": {
    "colab_type": "text",
    "id": "W3TRFyt14gqw"
   },
   "source": [
    "Running a traditional algorithm (KNN Classifier) to predict the image values"
   ]
  },
  {
   "cell_type": "code",
   "execution_count": 0,
   "metadata": {
    "colab": {
     "base_uri": "https://localhost:8080/",
     "height": 67
    },
    "colab_type": "code",
    "id": "pJjqeMS-4R_a",
    "outputId": "2791f703-4715-4fb8-a44b-2ebd2f5982d3"
   },
   "outputs": [
    {
     "data": {
      "text/plain": [
       "KNeighborsClassifier(algorithm='auto', leaf_size=30, metric='minkowski',\n",
       "                     metric_params=None, n_jobs=None, n_neighbors=5, p=2,\n",
       "                     weights='uniform')"
      ]
     },
     "execution_count": 15,
     "metadata": {
      "tags": []
     },
     "output_type": "execute_result"
    }
   ],
   "source": [
    "knn = KNeighborsClassifier()\n",
    "knn.fit(X_train, y_train)"
   ]
  },
  {
   "cell_type": "code",
   "execution_count": 0,
   "metadata": {
    "colab": {
     "base_uri": "https://localhost:8080/",
     "height": 34
    },
    "colab_type": "code",
    "id": "t-gT5Nc14rht",
    "outputId": "2276a640-4a73-4865-9c6e-de8ede89305d"
   },
   "outputs": [
    {
     "data": {
      "text/plain": [
       "0.32416666666666666"
      ]
     },
     "execution_count": 16,
     "metadata": {
      "tags": []
     },
     "output_type": "execute_result"
    }
   ],
   "source": [
    "knn.score(X_test, y_test)"
   ]
  },
  {
   "cell_type": "markdown",
   "metadata": {
    "colab_type": "text",
    "id": "24hneqb6-1dh"
   },
   "source": [
    "Here we used the default value for n_neighbours = 5, however let's run it for a few more values to find the optimal value of k (n_neighbours)"
   ]
  },
  {
   "cell_type": "code",
   "execution_count": 0,
   "metadata": {
    "colab": {
     "base_uri": "https://localhost:8080/",
     "height": 34
    },
    "colab_type": "code",
    "id": "xk1IWoH64z-Y",
    "outputId": "34c30e95-3e81-43af-b2a9-684f35a2711f"
   },
   "outputs": [
    {
     "name": "stdout",
     "output_type": "stream",
     "text": [
      "[3, 7, 11, 15, 19, 23]\n"
     ]
    }
   ],
   "source": [
    "#List of values for n_neigbours (k)\n",
    "neighbours = [3,7,11,15,19,23]\n",
    "print(neighbours)"
   ]
  },
  {
   "cell_type": "code",
   "execution_count": 0,
   "metadata": {
    "colab": {
     "base_uri": "https://localhost:8080/",
     "height": 134
    },
    "colab_type": "code",
    "id": "oTkmYINtBlUT",
    "outputId": "bef18d40-e87c-4dd5-92b1-797af6919743"
   },
   "outputs": [
    {
     "name": "stdout",
     "output_type": "stream",
     "text": [
      "K value = 3 Accuracy = 0.3783888888888889\n",
      "K value = 7 Accuracy = 0.28683333333333333\n",
      "K value = 11 Accuracy = 0.23622222222222222\n",
      "K value = 15 Accuracy = 0.201\n",
      "K value = 19 Accuracy = 0.17444444444444446\n",
      "K value = 23 Accuracy = 0.15261111111111111\n",
      "The optimal number of neighbors is 3\n"
     ]
    }
   ],
   "source": [
    "ac_scores = []\n",
    "\n",
    "for k in neighbours:\n",
    "    knn = KNeighborsClassifier(n_neighbors=k)\n",
    "    knn.fit(X_train, y_train)\n",
    "    scores = knn.score(X_test, y_test)\n",
    "    print(\"K value = {} Accuracy = {}\".format(k, scores))\n",
    "    ac_scores.append(scores)\n",
    "\n",
    "MSE = [1 - x for x in ac_scores]\n",
    "\n",
    "optimal_k = neighbours[MSE.index(min(MSE))]\n",
    "print(\"The optimal number of neighbors is %d\" % optimal_k)"
   ]
  },
  {
   "cell_type": "markdown",
   "metadata": {
    "colab_type": "text",
    "id": "HwmGHnJLnsO1"
   },
   "source": [
    "So, traditional Algorithms like KNN appears to be very inefficient for working with datasets like this one. \n",
    "Another noteworthy point to be mentioned here, is the algorithm took a long time to run here.\n",
    "Still the optimal value of K turns out to be 3, so let's try to evaluate the metrics for the same model since those might be useful for comparison with advenced techniques like Neural Networks in the future."
   ]
  },
  {
   "cell_type": "code",
   "execution_count": 9,
   "metadata": {
    "colab": {
     "base_uri": "https://localhost:8080/",
     "height": 67
    },
    "colab_type": "code",
    "id": "ZtlCwWw5oEin",
    "outputId": "8208595a-7357-4194-b716-e45b8f3764ab"
   },
   "outputs": [
    {
     "data": {
      "text/plain": [
       "KNeighborsClassifier(algorithm='auto', leaf_size=30, metric='minkowski',\n",
       "                     metric_params=None, n_jobs=None, n_neighbors=3, p=2,\n",
       "                     weights='uniform')"
      ]
     },
     "execution_count": 9,
     "metadata": {
      "tags": []
     },
     "output_type": "execute_result"
    }
   ],
   "source": [
    "knn = KNeighborsClassifier(n_neighbors = 3)\n",
    "knn.fit(X_train, y_train)"
   ]
  },
  {
   "cell_type": "code",
   "execution_count": 0,
   "metadata": {
    "colab": {},
    "colab_type": "code",
    "id": "4N3KBl1jom3j"
   },
   "outputs": [],
   "source": [
    "y_predict = knn.predict(X_test)"
   ]
  },
  {
   "cell_type": "markdown",
   "metadata": {
    "colab_type": "text",
    "id": "7WarSerlpFmx"
   },
   "source": [
    "Printing the accuracy on Test Set"
   ]
  },
  {
   "cell_type": "code",
   "execution_count": 11,
   "metadata": {
    "colab": {
     "base_uri": "https://localhost:8080/",
     "height": 34
    },
    "colab_type": "code",
    "id": "TJeSrn0YpOCe",
    "outputId": "9c0ea825-175e-4e4d-d0e8-0e4bc4b176fb"
   },
   "outputs": [
    {
     "name": "stdout",
     "output_type": "stream",
     "text": [
      "0.3783888888888889\n"
     ]
    }
   ],
   "source": [
    "print(metrics.accuracy_score(y_test, y_predict))"
   ]
  },
  {
   "cell_type": "markdown",
   "metadata": {
    "colab_type": "text",
    "id": "SStT74sDpVAo"
   },
   "source": [
    "Printing the classification report"
   ]
  },
  {
   "cell_type": "code",
   "execution_count": 13,
   "metadata": {
    "colab": {
     "base_uri": "https://localhost:8080/",
     "height": 373
    },
    "colab_type": "code",
    "id": "Awmq5ayFpYCa",
    "outputId": "c8eeaa1b-3899-4a79-b586-bfc25778c49b"
   },
   "outputs": [
    {
     "name": "stdout",
     "output_type": "stream",
     "text": [
      "              precision    recall  f1-score   support\n",
      "\n",
      "           0       0.61      0.44      0.51      1814\n",
      "           1       0.62      0.51      0.56      1828\n",
      "           2       0.74      0.40      0.52      1803\n",
      "           3       0.56      0.27      0.37      1719\n",
      "           4       0.78      0.51      0.61      1812\n",
      "           5       0.58      0.25      0.35      1768\n",
      "           6       0.54      0.29      0.37      1832\n",
      "           7       0.80      0.54      0.65      1808\n",
      "           8       0.45      0.25      0.32      1812\n",
      "           9       0.60      0.32      0.41      1804\n",
      "\n",
      "   micro avg       0.64      0.38      0.47     18000\n",
      "   macro avg       0.63      0.38      0.47     18000\n",
      "weighted avg       0.63      0.38      0.47     18000\n",
      " samples avg       0.38      0.38      0.38     18000\n",
      "\n"
     ]
    },
    {
     "name": "stderr",
     "output_type": "stream",
     "text": [
      "/usr/local/lib/python3.6/dist-packages/sklearn/metrics/classification.py:1437: UndefinedMetricWarning: Precision and F-score are ill-defined and being set to 0.0 in samples with no predicted labels.\n",
      "  'precision', 'predicted', average, warn_for)\n"
     ]
    }
   ],
   "source": [
    "print(metrics.classification_report(y_test, y_predict))"
   ]
  },
  {
   "cell_type": "markdown",
   "metadata": {
    "colab_type": "text",
    "id": "tjIMbRKWorFF"
   },
   "source": [
    "A remarkable thing to note here is that the execution of KNN is taking a lot of time (about 20 min for the test set with a sepecific value of k).\n",
    "Now let's try out Neural Networks on this dataset."
   ]
  },
  {
   "cell_type": "markdown",
   "metadata": {
    "colab_type": "text",
    "id": "BWP_srcuvMwK"
   },
   "source": [
    "Let's start by initializing a simple Neural Network and then change or tune the parameters and hyperparameters for best performance."
   ]
  },
  {
   "cell_type": "code",
   "execution_count": 0,
   "metadata": {
    "colab": {},
    "colab_type": "code",
    "id": "w3v50rtqm-yw"
   },
   "outputs": [],
   "source": [
    "model = Sequential()\n",
    "model.add(Dense(50, input_shape = (1024, )))\n",
    "model.add(Activation('relu'))\n",
    "model.add(Dense(10))\n",
    "model.add(Activation('softmax'))"
   ]
  },
  {
   "cell_type": "code",
   "execution_count": 0,
   "metadata": {
    "colab": {},
    "colab_type": "code",
    "id": "LNq2gY_NrV9r"
   },
   "outputs": [],
   "source": [
    "sgd = optimizers.SGD(lr = 0.01)\n",
    "model.compile(optimizer = sgd, loss = 'categorical_crossentropy', metrics = ['accuracy'])"
   ]
  },
  {
   "cell_type": "code",
   "execution_count": 38,
   "metadata": {
    "colab": {
     "base_uri": "https://localhost:8080/",
     "height": 1000
    },
    "colab_type": "code",
    "id": "IbrF2mSXrfvM",
    "outputId": "d0096d4b-d2ae-409e-9af8-dc7875ec2e79"
   },
   "outputs": [
    {
     "name": "stdout",
     "output_type": "stream",
     "text": [
      "Train on 42000 samples\n",
      "Epoch 1/100\n",
      "42000/42000 [==============================] - 1s 32us/sample - loss: 2.3033 - accuracy: 0.1182\n",
      "Epoch 2/100\n",
      "42000/42000 [==============================] - 1s 21us/sample - loss: 2.2908 - accuracy: 0.1313\n",
      "Epoch 3/100\n",
      "42000/42000 [==============================] - 1s 20us/sample - loss: 2.2792 - accuracy: 0.1526\n",
      "Epoch 4/100\n",
      "42000/42000 [==============================] - 1s 20us/sample - loss: 2.2647 - accuracy: 0.1792\n",
      "Epoch 5/100\n",
      "42000/42000 [==============================] - 1s 21us/sample - loss: 2.2482 - accuracy: 0.2059\n",
      "Epoch 6/100\n",
      "42000/42000 [==============================] - 1s 20us/sample - loss: 2.2297 - accuracy: 0.2361\n",
      "Epoch 7/100\n",
      "42000/42000 [==============================] - 1s 20us/sample - loss: 2.2092 - accuracy: 0.2666\n",
      "Epoch 8/100\n",
      "42000/42000 [==============================] - 1s 21us/sample - loss: 2.1860 - accuracy: 0.2890\n",
      "Epoch 9/100\n",
      "42000/42000 [==============================] - 1s 20us/sample - loss: 2.1601 - accuracy: 0.3136\n",
      "Epoch 10/100\n",
      "42000/42000 [==============================] - 1s 20us/sample - loss: 2.1323 - accuracy: 0.3376\n",
      "Epoch 11/100\n",
      "42000/42000 [==============================] - 1s 20us/sample - loss: 2.1019 - accuracy: 0.3588\n",
      "Epoch 12/100\n",
      "42000/42000 [==============================] - 1s 21us/sample - loss: 2.0693 - accuracy: 0.3758\n",
      "Epoch 13/100\n",
      "42000/42000 [==============================] - 1s 20us/sample - loss: 2.0346 - accuracy: 0.3958\n",
      "Epoch 14/100\n",
      "42000/42000 [==============================] - 1s 20us/sample - loss: 1.9985 - accuracy: 0.4162\n",
      "Epoch 15/100\n",
      "42000/42000 [==============================] - 1s 20us/sample - loss: 1.9613 - accuracy: 0.4305\n",
      "Epoch 16/100\n",
      "42000/42000 [==============================] - 1s 20us/sample - loss: 1.9224 - accuracy: 0.4498\n",
      "Epoch 17/100\n",
      "42000/42000 [==============================] - 1s 20us/sample - loss: 1.8833 - accuracy: 0.4641\n",
      "Epoch 18/100\n",
      "42000/42000 [==============================] - 1s 20us/sample - loss: 1.8440 - accuracy: 0.4821\n",
      "Epoch 19/100\n",
      "42000/42000 [==============================] - 1s 21us/sample - loss: 1.8055 - accuracy: 0.4964\n",
      "Epoch 20/100\n",
      "42000/42000 [==============================] - 1s 20us/sample - loss: 1.7681 - accuracy: 0.5103\n",
      "Epoch 21/100\n",
      "42000/42000 [==============================] - 1s 20us/sample - loss: 1.7315 - accuracy: 0.5235\n",
      "Epoch 22/100\n",
      "42000/42000 [==============================] - 1s 21us/sample - loss: 1.6966 - accuracy: 0.5348\n",
      "Epoch 23/100\n",
      "42000/42000 [==============================] - 1s 20us/sample - loss: 1.6631 - accuracy: 0.5444\n",
      "Epoch 24/100\n",
      "42000/42000 [==============================] - 1s 21us/sample - loss: 1.6312 - accuracy: 0.5566\n",
      "Epoch 25/100\n",
      "42000/42000 [==============================] - 1s 20us/sample - loss: 1.6012 - accuracy: 0.5647\n",
      "Epoch 26/100\n",
      "42000/42000 [==============================] - 1s 21us/sample - loss: 1.5722 - accuracy: 0.5727\n",
      "Epoch 27/100\n",
      "42000/42000 [==============================] - 1s 21us/sample - loss: 1.5447 - accuracy: 0.5797\n",
      "Epoch 28/100\n",
      "42000/42000 [==============================] - 1s 20us/sample - loss: 1.5191 - accuracy: 0.5864\n",
      "Epoch 29/100\n",
      "42000/42000 [==============================] - 1s 20us/sample - loss: 1.4945 - accuracy: 0.5936\n",
      "Epoch 30/100\n",
      "42000/42000 [==============================] - 1s 20us/sample - loss: 1.4707 - accuracy: 0.6006\n",
      "Epoch 31/100\n",
      "42000/42000 [==============================] - 1s 20us/sample - loss: 1.4492 - accuracy: 0.6046\n",
      "Epoch 32/100\n",
      "42000/42000 [==============================] - 1s 21us/sample - loss: 1.4288 - accuracy: 0.6119\n",
      "Epoch 33/100\n",
      "42000/42000 [==============================] - 1s 21us/sample - loss: 1.4086 - accuracy: 0.6154\n",
      "Epoch 34/100\n",
      "42000/42000 [==============================] - 1s 21us/sample - loss: 1.3898 - accuracy: 0.6200\n",
      "Epoch 35/100\n",
      "42000/42000 [==============================] - 1s 21us/sample - loss: 1.3723 - accuracy: 0.6235\n",
      "Epoch 36/100\n",
      "42000/42000 [==============================] - 1s 21us/sample - loss: 1.3546 - accuracy: 0.6298\n",
      "Epoch 37/100\n",
      "42000/42000 [==============================] - 1s 22us/sample - loss: 1.3389 - accuracy: 0.6323\n",
      "Epoch 38/100\n",
      "42000/42000 [==============================] - 1s 20us/sample - loss: 1.3238 - accuracy: 0.6365\n",
      "Epoch 39/100\n",
      "42000/42000 [==============================] - 1s 20us/sample - loss: 1.3091 - accuracy: 0.6386\n",
      "Epoch 40/100\n",
      "42000/42000 [==============================] - 1s 20us/sample - loss: 1.2953 - accuracy: 0.6431\n",
      "Epoch 41/100\n",
      "42000/42000 [==============================] - 1s 20us/sample - loss: 1.2827 - accuracy: 0.6455\n",
      "Epoch 42/100\n",
      "42000/42000 [==============================] - 1s 20us/sample - loss: 1.2701 - accuracy: 0.6485\n",
      "Epoch 43/100\n",
      "42000/42000 [==============================] - 1s 21us/sample - loss: 1.2581 - accuracy: 0.6526\n",
      "Epoch 44/100\n",
      "42000/42000 [==============================] - 1s 21us/sample - loss: 1.2467 - accuracy: 0.6536\n",
      "Epoch 45/100\n",
      "42000/42000 [==============================] - 1s 20us/sample - loss: 1.2360 - accuracy: 0.6565\n",
      "Epoch 46/100\n",
      "42000/42000 [==============================] - 1s 20us/sample - loss: 1.2259 - accuracy: 0.6591\n",
      "Epoch 47/100\n",
      "42000/42000 [==============================] - 1s 20us/sample - loss: 1.2154 - accuracy: 0.6635\n",
      "Epoch 48/100\n",
      "42000/42000 [==============================] - 1s 20us/sample - loss: 1.2062 - accuracy: 0.6628\n",
      "Epoch 49/100\n",
      "42000/42000 [==============================] - 1s 21us/sample - loss: 1.1974 - accuracy: 0.6653\n",
      "Epoch 50/100\n",
      "42000/42000 [==============================] - 1s 20us/sample - loss: 1.1889 - accuracy: 0.6682\n",
      "Epoch 51/100\n",
      "42000/42000 [==============================] - 1s 21us/sample - loss: 1.1800 - accuracy: 0.6692\n",
      "Epoch 52/100\n",
      "42000/42000 [==============================] - 1s 19us/sample - loss: 1.1732 - accuracy: 0.6703\n",
      "Epoch 53/100\n",
      "42000/42000 [==============================] - 1s 20us/sample - loss: 1.1639 - accuracy: 0.6737\n",
      "Epoch 54/100\n",
      "42000/42000 [==============================] - 1s 20us/sample - loss: 1.1579 - accuracy: 0.6750\n",
      "Epoch 55/100\n",
      "42000/42000 [==============================] - 1s 21us/sample - loss: 1.1496 - accuracy: 0.6766\n",
      "Epoch 56/100\n",
      "42000/42000 [==============================] - 1s 20us/sample - loss: 1.1431 - accuracy: 0.6779\n",
      "Epoch 57/100\n",
      "42000/42000 [==============================] - 1s 20us/sample - loss: 1.1368 - accuracy: 0.6795\n",
      "Epoch 58/100\n",
      "42000/42000 [==============================] - 1s 20us/sample - loss: 1.1306 - accuracy: 0.6824\n",
      "Epoch 59/100\n",
      "42000/42000 [==============================] - 1s 20us/sample - loss: 1.1236 - accuracy: 0.6840\n",
      "Epoch 60/100\n",
      "42000/42000 [==============================] - 1s 20us/sample - loss: 1.1177 - accuracy: 0.6826\n",
      "Epoch 61/100\n",
      "42000/42000 [==============================] - 1s 20us/sample - loss: 1.1119 - accuracy: 0.6858\n",
      "Epoch 62/100\n",
      "42000/42000 [==============================] - 1s 20us/sample - loss: 1.1060 - accuracy: 0.6872\n",
      "Epoch 63/100\n",
      "42000/42000 [==============================] - 1s 20us/sample - loss: 1.1010 - accuracy: 0.6879\n",
      "Epoch 64/100\n",
      "42000/42000 [==============================] - 1s 20us/sample - loss: 1.0950 - accuracy: 0.6897\n",
      "Epoch 65/100\n",
      "42000/42000 [==============================] - 1s 20us/sample - loss: 1.0897 - accuracy: 0.6902\n",
      "Epoch 66/100\n",
      "42000/42000 [==============================] - 1s 20us/sample - loss: 1.0850 - accuracy: 0.6903\n",
      "Epoch 67/100\n",
      "42000/42000 [==============================] - 1s 20us/sample - loss: 1.0806 - accuracy: 0.6936\n",
      "Epoch 68/100\n",
      "42000/42000 [==============================] - 1s 20us/sample - loss: 1.0756 - accuracy: 0.6940\n",
      "Epoch 69/100\n",
      "42000/42000 [==============================] - 1s 20us/sample - loss: 1.0714 - accuracy: 0.6951\n",
      "Epoch 70/100\n",
      "42000/42000 [==============================] - 1s 21us/sample - loss: 1.0663 - accuracy: 0.6963\n",
      "Epoch 71/100\n",
      "42000/42000 [==============================] - 1s 20us/sample - loss: 1.0623 - accuracy: 0.6961\n",
      "Epoch 72/100\n",
      "42000/42000 [==============================] - 1s 21us/sample - loss: 1.0584 - accuracy: 0.6969\n",
      "Epoch 73/100\n",
      "42000/42000 [==============================] - 1s 20us/sample - loss: 1.0538 - accuracy: 0.6984\n",
      "Epoch 74/100\n",
      "42000/42000 [==============================] - 1s 20us/sample - loss: 1.0498 - accuracy: 0.6992\n",
      "Epoch 75/100\n",
      "42000/42000 [==============================] - 1s 20us/sample - loss: 1.0455 - accuracy: 0.6999\n",
      "Epoch 76/100\n",
      "42000/42000 [==============================] - 1s 20us/sample - loss: 1.0421 - accuracy: 0.7008\n",
      "Epoch 77/100\n",
      "42000/42000 [==============================] - 1s 20us/sample - loss: 1.0380 - accuracy: 0.7019\n",
      "Epoch 78/100\n",
      "42000/42000 [==============================] - 1s 21us/sample - loss: 1.0335 - accuracy: 0.7038\n",
      "Epoch 79/100\n",
      "42000/42000 [==============================] - 1s 22us/sample - loss: 1.0301 - accuracy: 0.7036\n",
      "Epoch 80/100\n",
      "42000/42000 [==============================] - 1s 21us/sample - loss: 1.0263 - accuracy: 0.7047\n",
      "Epoch 81/100\n",
      "42000/42000 [==============================] - 1s 22us/sample - loss: 1.0227 - accuracy: 0.7063\n",
      "Epoch 82/100\n",
      "42000/42000 [==============================] - 1s 22us/sample - loss: 1.0197 - accuracy: 0.7068\n",
      "Epoch 83/100\n",
      "42000/42000 [==============================] - 1s 22us/sample - loss: 1.0162 - accuracy: 0.7082\n",
      "Epoch 84/100\n",
      "42000/42000 [==============================] - 1s 21us/sample - loss: 1.0125 - accuracy: 0.7073\n",
      "Epoch 85/100\n",
      "42000/42000 [==============================] - 1s 20us/sample - loss: 1.0099 - accuracy: 0.7089\n",
      "Epoch 86/100\n",
      "42000/42000 [==============================] - 1s 20us/sample - loss: 1.0059 - accuracy: 0.7100\n",
      "Epoch 87/100\n",
      "42000/42000 [==============================] - 1s 20us/sample - loss: 1.0032 - accuracy: 0.7110\n",
      "Epoch 88/100\n",
      "42000/42000 [==============================] - 1s 21us/sample - loss: 1.0008 - accuracy: 0.7105\n",
      "Epoch 89/100\n",
      "42000/42000 [==============================] - 1s 20us/sample - loss: 0.9966 - accuracy: 0.7130\n",
      "Epoch 90/100\n",
      "42000/42000 [==============================] - 1s 19us/sample - loss: 0.9943 - accuracy: 0.7126\n",
      "Epoch 91/100\n",
      "42000/42000 [==============================] - 1s 21us/sample - loss: 0.9913 - accuracy: 0.7146\n",
      "Epoch 92/100\n",
      "42000/42000 [==============================] - 1s 20us/sample - loss: 0.9878 - accuracy: 0.7148\n",
      "Epoch 93/100\n",
      "42000/42000 [==============================] - 1s 20us/sample - loss: 0.9861 - accuracy: 0.7140\n",
      "Epoch 94/100\n",
      "42000/42000 [==============================] - 1s 19us/sample - loss: 0.9823 - accuracy: 0.7163\n",
      "Epoch 95/100\n",
      "42000/42000 [==============================] - 1s 20us/sample - loss: 0.9800 - accuracy: 0.7177\n",
      "Epoch 96/100\n",
      "42000/42000 [==============================] - 1s 21us/sample - loss: 0.9775 - accuracy: 0.7174\n",
      "Epoch 97/100\n",
      "42000/42000 [==============================] - 1s 20us/sample - loss: 0.9738 - accuracy: 0.7187\n",
      "Epoch 98/100\n",
      "42000/42000 [==============================] - 1s 20us/sample - loss: 0.9716 - accuracy: 0.7193\n",
      "Epoch 99/100\n",
      "42000/42000 [==============================] - 1s 20us/sample - loss: 0.9694 - accuracy: 0.7211\n",
      "Epoch 100/100\n",
      "42000/42000 [==============================] - 1s 20us/sample - loss: 0.9672 - accuracy: 0.7211\n"
     ]
    }
   ],
   "source": [
    "history = model.fit(X_train, y_train, batch_size = 200, epochs = 100, verbose = 1)"
   ]
  },
  {
   "cell_type": "code",
   "execution_count": 39,
   "metadata": {
    "colab": {
     "base_uri": "https://localhost:8080/",
     "height": 34
    },
    "colab_type": "code",
    "id": "ghY5UHk4rj9r",
    "outputId": "8a0302ee-3f0c-4027-cccb-85630305c85d"
   },
   "outputs": [
    {
     "name": "stdout",
     "output_type": "stream",
     "text": [
      "18000/18000 [==============================] - 1s 43us/sample - loss: 0.9892 - accuracy: 0.7128\n"
     ]
    }
   ],
   "source": [
    "results = model.evaluate(X_test, y_test)"
   ]
  },
  {
   "cell_type": "code",
   "execution_count": 40,
   "metadata": {
    "colab": {
     "base_uri": "https://localhost:8080/",
     "height": 34
    },
    "colab_type": "code",
    "id": "929dvl2XsZa-",
    "outputId": "e6a69976-8e0e-4141-8626-d12591207a0e"
   },
   "outputs": [
    {
     "name": "stdout",
     "output_type": "stream",
     "text": [
      "Test accuracy:  0.7127778\n"
     ]
    }
   ],
   "source": [
    "print('Test accuracy: ', results[1])"
   ]
  },
  {
   "cell_type": "markdown",
   "metadata": {
    "colab_type": "text",
    "id": "BmsVYbGzvdHu"
   },
   "source": [
    "We got a fair accuracy of 71% by using RELU Activation among other activations. Now let's add a few more layers and see model performance."
   ]
  },
  {
   "cell_type": "code",
   "execution_count": 44,
   "metadata": {
    "colab": {
     "base_uri": "https://localhost:8080/",
     "height": 1000
    },
    "colab_type": "code",
    "id": "yAGJg1owsdI3",
    "outputId": "e3959061-26db-41f0-d341-a3e9574526b0"
   },
   "outputs": [
    {
     "name": "stdout",
     "output_type": "stream",
     "text": [
      "Train on 42000 samples\n",
      "Epoch 1/100\n",
      "42000/42000 [==============================] - 1s 30us/sample - loss: 2.3039 - accuracy: 0.1132\n",
      "Epoch 2/100\n",
      "42000/42000 [==============================] - 1s 24us/sample - loss: 2.2927 - accuracy: 0.1391\n",
      "Epoch 3/100\n",
      "42000/42000 [==============================] - 1s 26us/sample - loss: 2.2850 - accuracy: 0.1534\n",
      "Epoch 4/100\n",
      "42000/42000 [==============================] - 1s 24us/sample - loss: 2.2742 - accuracy: 0.1639\n",
      "Epoch 5/100\n",
      "42000/42000 [==============================] - 1s 23us/sample - loss: 2.2581 - accuracy: 0.1716\n",
      "Epoch 6/100\n",
      "42000/42000 [==============================] - 1s 24us/sample - loss: 2.2376 - accuracy: 0.1886\n",
      "Epoch 7/100\n",
      "42000/42000 [==============================] - 1s 25us/sample - loss: 2.2122 - accuracy: 0.2060\n",
      "Epoch 8/100\n",
      "42000/42000 [==============================] - 1s 26us/sample - loss: 2.1825 - accuracy: 0.2254\n",
      "Epoch 9/100\n",
      "42000/42000 [==============================] - 1s 25us/sample - loss: 2.1492 - accuracy: 0.2480\n",
      "Epoch 10/100\n",
      "42000/42000 [==============================] - 1s 24us/sample - loss: 2.1132 - accuracy: 0.2716\n",
      "Epoch 11/100\n",
      "42000/42000 [==============================] - 1s 24us/sample - loss: 2.0759 - accuracy: 0.2942\n",
      "Epoch 12/100\n",
      "42000/42000 [==============================] - 1s 23us/sample - loss: 2.0354 - accuracy: 0.3131\n",
      "Epoch 13/100\n",
      "42000/42000 [==============================] - 1s 24us/sample - loss: 1.9903 - accuracy: 0.3314\n",
      "Epoch 14/100\n",
      "42000/42000 [==============================] - 1s 24us/sample - loss: 1.9388 - accuracy: 0.3538\n",
      "Epoch 15/100\n",
      "42000/42000 [==============================] - 1s 24us/sample - loss: 1.8825 - accuracy: 0.3752\n",
      "Epoch 16/100\n",
      "42000/42000 [==============================] - 1s 23us/sample - loss: 1.8237 - accuracy: 0.4031\n",
      "Epoch 17/100\n",
      "42000/42000 [==============================] - 1s 24us/sample - loss: 1.7581 - accuracy: 0.4353\n",
      "Epoch 18/100\n",
      "42000/42000 [==============================] - 1s 25us/sample - loss: 1.6981 - accuracy: 0.4575\n",
      "Epoch 19/100\n",
      "42000/42000 [==============================] - 1s 24us/sample - loss: 1.6451 - accuracy: 0.4811\n",
      "Epoch 20/100\n",
      "42000/42000 [==============================] - 1s 23us/sample - loss: 1.5852 - accuracy: 0.5043\n",
      "Epoch 21/100\n",
      "42000/42000 [==============================] - 1s 23us/sample - loss: 1.5241 - accuracy: 0.5258\n",
      "Epoch 22/100\n",
      "42000/42000 [==============================] - 1s 23us/sample - loss: 1.4829 - accuracy: 0.5376\n",
      "Epoch 23/100\n",
      "42000/42000 [==============================] - 1s 24us/sample - loss: 1.4451 - accuracy: 0.5486\n",
      "Epoch 24/100\n",
      "42000/42000 [==============================] - 1s 24us/sample - loss: 1.4011 - accuracy: 0.5635\n",
      "Epoch 25/100\n",
      "42000/42000 [==============================] - 1s 23us/sample - loss: 1.3683 - accuracy: 0.5748\n",
      "Epoch 26/100\n",
      "42000/42000 [==============================] - 1s 24us/sample - loss: 1.3334 - accuracy: 0.5875\n",
      "Epoch 27/100\n",
      "42000/42000 [==============================] - 1s 23us/sample - loss: 1.3098 - accuracy: 0.5918\n",
      "Epoch 28/100\n",
      "42000/42000 [==============================] - 1s 24us/sample - loss: 1.2779 - accuracy: 0.6060\n",
      "Epoch 29/100\n",
      "42000/42000 [==============================] - 1s 24us/sample - loss: 1.2637 - accuracy: 0.6067\n",
      "Epoch 30/100\n",
      "42000/42000 [==============================] - 1s 25us/sample - loss: 1.2347 - accuracy: 0.6185\n",
      "Epoch 31/100\n",
      "42000/42000 [==============================] - 1s 23us/sample - loss: 1.2163 - accuracy: 0.6246\n",
      "Epoch 32/100\n",
      "42000/42000 [==============================] - 1s 24us/sample - loss: 1.2001 - accuracy: 0.6298\n",
      "Epoch 33/100\n",
      "42000/42000 [==============================] - 1s 23us/sample - loss: 1.1829 - accuracy: 0.6365\n",
      "Epoch 34/100\n",
      "42000/42000 [==============================] - 1s 23us/sample - loss: 1.1621 - accuracy: 0.6444\n",
      "Epoch 35/100\n",
      "42000/42000 [==============================] - 1s 23us/sample - loss: 1.1493 - accuracy: 0.6476\n",
      "Epoch 36/100\n",
      "42000/42000 [==============================] - 1s 23us/sample - loss: 1.1334 - accuracy: 0.6527\n",
      "Epoch 37/100\n",
      "42000/42000 [==============================] - 1s 23us/sample - loss: 1.1233 - accuracy: 0.6560\n",
      "Epoch 38/100\n",
      "42000/42000 [==============================] - 1s 23us/sample - loss: 1.1080 - accuracy: 0.6607\n",
      "Epoch 39/100\n",
      "42000/42000 [==============================] - 1s 23us/sample - loss: 1.0927 - accuracy: 0.6665\n",
      "Epoch 40/100\n",
      "42000/42000 [==============================] - 1s 23us/sample - loss: 1.0818 - accuracy: 0.6690\n",
      "Epoch 41/100\n",
      "42000/42000 [==============================] - 1s 24us/sample - loss: 1.0701 - accuracy: 0.6746\n",
      "Epoch 42/100\n",
      "42000/42000 [==============================] - 1s 23us/sample - loss: 1.0580 - accuracy: 0.6770\n",
      "Epoch 43/100\n",
      "42000/42000 [==============================] - 1s 24us/sample - loss: 1.0505 - accuracy: 0.6790\n",
      "Epoch 44/100\n",
      "42000/42000 [==============================] - 1s 24us/sample - loss: 1.0375 - accuracy: 0.6816\n",
      "Epoch 45/100\n",
      "42000/42000 [==============================] - 1s 24us/sample - loss: 1.0346 - accuracy: 0.6847\n",
      "Epoch 46/100\n",
      "42000/42000 [==============================] - 1s 23us/sample - loss: 1.0221 - accuracy: 0.6885\n",
      "Epoch 47/100\n",
      "42000/42000 [==============================] - 1s 23us/sample - loss: 1.0129 - accuracy: 0.6920\n",
      "Epoch 48/100\n",
      "42000/42000 [==============================] - 1s 24us/sample - loss: 1.0086 - accuracy: 0.6931\n",
      "Epoch 49/100\n",
      "42000/42000 [==============================] - 1s 24us/sample - loss: 0.9971 - accuracy: 0.6971\n",
      "Epoch 50/100\n",
      "42000/42000 [==============================] - 1s 23us/sample - loss: 0.9958 - accuracy: 0.6971\n",
      "Epoch 51/100\n",
      "42000/42000 [==============================] - 1s 25us/sample - loss: 0.9865 - accuracy: 0.7003\n",
      "Epoch 52/100\n",
      "42000/42000 [==============================] - 1s 24us/sample - loss: 0.9734 - accuracy: 0.7049\n",
      "Epoch 53/100\n",
      "42000/42000 [==============================] - 1s 24us/sample - loss: 0.9712 - accuracy: 0.7044\n",
      "Epoch 54/100\n",
      "42000/42000 [==============================] - 1s 25us/sample - loss: 0.9682 - accuracy: 0.7051\n",
      "Epoch 55/100\n",
      "42000/42000 [==============================] - 1s 24us/sample - loss: 0.9582 - accuracy: 0.7101\n",
      "Epoch 56/100\n",
      "42000/42000 [==============================] - 1s 25us/sample - loss: 0.9513 - accuracy: 0.7122\n",
      "Epoch 57/100\n",
      "42000/42000 [==============================] - 1s 24us/sample - loss: 0.9450 - accuracy: 0.7147\n",
      "Epoch 58/100\n",
      "42000/42000 [==============================] - 1s 27us/sample - loss: 0.9380 - accuracy: 0.7151\n",
      "Epoch 59/100\n",
      "42000/42000 [==============================] - 1s 27us/sample - loss: 0.9352 - accuracy: 0.7145\n",
      "Epoch 60/100\n",
      "42000/42000 [==============================] - 1s 27us/sample - loss: 0.9294 - accuracy: 0.7170\n",
      "Epoch 61/100\n",
      "42000/42000 [==============================] - 1s 27us/sample - loss: 0.9197 - accuracy: 0.7218\n",
      "Epoch 62/100\n",
      "42000/42000 [==============================] - 1s 28us/sample - loss: 0.9203 - accuracy: 0.7224\n",
      "Epoch 63/100\n",
      "42000/42000 [==============================] - 1s 24us/sample - loss: 0.9110 - accuracy: 0.7237\n",
      "Epoch 64/100\n",
      "42000/42000 [==============================] - 1s 24us/sample - loss: 0.9065 - accuracy: 0.7250\n",
      "Epoch 65/100\n",
      "42000/42000 [==============================] - 1s 23us/sample - loss: 0.9038 - accuracy: 0.7239\n",
      "Epoch 66/100\n",
      "42000/42000 [==============================] - 1s 23us/sample - loss: 0.8965 - accuracy: 0.7301\n",
      "Epoch 67/100\n",
      "42000/42000 [==============================] - 1s 23us/sample - loss: 0.8972 - accuracy: 0.7281\n",
      "Epoch 68/100\n",
      "42000/42000 [==============================] - 1s 24us/sample - loss: 0.8892 - accuracy: 0.7306\n",
      "Epoch 69/100\n",
      "42000/42000 [==============================] - 1s 23us/sample - loss: 0.8806 - accuracy: 0.7329\n",
      "Epoch 70/100\n",
      "42000/42000 [==============================] - 1s 23us/sample - loss: 0.8834 - accuracy: 0.7320\n",
      "Epoch 71/100\n",
      "42000/42000 [==============================] - 1s 23us/sample - loss: 0.8762 - accuracy: 0.7340\n",
      "Epoch 72/100\n",
      "42000/42000 [==============================] - 1s 24us/sample - loss: 0.8697 - accuracy: 0.7373\n",
      "Epoch 73/100\n",
      "42000/42000 [==============================] - 1s 23us/sample - loss: 0.8666 - accuracy: 0.7374\n",
      "Epoch 74/100\n",
      "42000/42000 [==============================] - 1s 23us/sample - loss: 0.8607 - accuracy: 0.7393\n",
      "Epoch 75/100\n",
      "42000/42000 [==============================] - 1s 23us/sample - loss: 0.8615 - accuracy: 0.7375\n",
      "Epoch 76/100\n",
      "42000/42000 [==============================] - 1s 24us/sample - loss: 0.8550 - accuracy: 0.7408\n",
      "Epoch 77/100\n",
      "42000/42000 [==============================] - 1s 24us/sample - loss: 0.8504 - accuracy: 0.7433\n",
      "Epoch 78/100\n",
      "42000/42000 [==============================] - 1s 24us/sample - loss: 0.8511 - accuracy: 0.7415\n",
      "Epoch 79/100\n",
      "42000/42000 [==============================] - 1s 23us/sample - loss: 0.8400 - accuracy: 0.7472\n",
      "Epoch 80/100\n",
      "42000/42000 [==============================] - 1s 22us/sample - loss: 0.8381 - accuracy: 0.7468\n",
      "Epoch 81/100\n",
      "42000/42000 [==============================] - 1s 24us/sample - loss: 0.8363 - accuracy: 0.7475\n",
      "Epoch 82/100\n",
      "42000/42000 [==============================] - 1s 25us/sample - loss: 0.8336 - accuracy: 0.7481\n",
      "Epoch 83/100\n",
      "42000/42000 [==============================] - 1s 24us/sample - loss: 0.8289 - accuracy: 0.7492\n",
      "Epoch 84/100\n",
      "42000/42000 [==============================] - 1s 23us/sample - loss: 0.8239 - accuracy: 0.7491\n",
      "Epoch 85/100\n",
      "42000/42000 [==============================] - 1s 24us/sample - loss: 0.8213 - accuracy: 0.7510\n",
      "Epoch 86/100\n",
      "42000/42000 [==============================] - 1s 23us/sample - loss: 0.8147 - accuracy: 0.7535\n",
      "Epoch 87/100\n",
      "42000/42000 [==============================] - 1s 23us/sample - loss: 0.8163 - accuracy: 0.7523\n",
      "Epoch 88/100\n",
      "42000/42000 [==============================] - 1s 23us/sample - loss: 0.8110 - accuracy: 0.7538\n",
      "Epoch 89/100\n",
      "42000/42000 [==============================] - 1s 23us/sample - loss: 0.8106 - accuracy: 0.7536\n",
      "Epoch 90/100\n",
      "42000/42000 [==============================] - 1s 23us/sample - loss: 0.8037 - accuracy: 0.7567\n",
      "Epoch 91/100\n",
      "42000/42000 [==============================] - 1s 23us/sample - loss: 0.8002 - accuracy: 0.7577\n",
      "Epoch 92/100\n",
      "42000/42000 [==============================] - 1s 25us/sample - loss: 0.8005 - accuracy: 0.7577\n",
      "Epoch 93/100\n",
      "42000/42000 [==============================] - 1s 25us/sample - loss: 0.7961 - accuracy: 0.7583\n",
      "Epoch 94/100\n",
      "42000/42000 [==============================] - 1s 23us/sample - loss: 0.7942 - accuracy: 0.7592\n",
      "Epoch 95/100\n",
      "42000/42000 [==============================] - 1s 22us/sample - loss: 0.7897 - accuracy: 0.7596\n",
      "Epoch 96/100\n",
      "42000/42000 [==============================] - 1s 23us/sample - loss: 0.7874 - accuracy: 0.7612\n",
      "Epoch 97/100\n",
      "42000/42000 [==============================] - 1s 23us/sample - loss: 0.7870 - accuracy: 0.7610\n",
      "Epoch 98/100\n",
      "42000/42000 [==============================] - 1s 23us/sample - loss: 0.7796 - accuracy: 0.7623\n",
      "Epoch 99/100\n",
      "42000/42000 [==============================] - 1s 23us/sample - loss: 0.7779 - accuracy: 0.7642\n",
      "Epoch 100/100\n",
      "42000/42000 [==============================] - 1s 22us/sample - loss: 0.7752 - accuracy: 0.7651\n"
     ]
    }
   ],
   "source": [
    "model = Sequential()\n",
    "model.add(Dense(50, input_shape = (1024, )))\n",
    "model.add(Activation('relu'))\n",
    "model.add(Dense(50))\n",
    "model.add(Activation('relu'))\n",
    "model.add(Dense(50))\n",
    "model.add(Activation('relu'))\n",
    "model.add(Dense(10))\n",
    "model.add(Activation('softmax'))\n",
    "\n",
    "sgd = optimizers.SGD(lr = 0.01)\n",
    "model.compile(optimizer = sgd, loss = 'categorical_crossentropy', metrics = ['accuracy'])\n",
    "\n",
    "history = model.fit(X_train, y_train, batch_size = 200, epochs = 100, verbose = 1)"
   ]
  },
  {
   "cell_type": "code",
   "execution_count": 45,
   "metadata": {
    "colab": {
     "base_uri": "https://localhost:8080/",
     "height": 50
    },
    "colab_type": "code",
    "id": "zzjSGQGJv7_2",
    "outputId": "1aca825b-88bc-4425-da0d-3eac98ecb75f"
   },
   "outputs": [
    {
     "name": "stdout",
     "output_type": "stream",
     "text": [
      "18000/18000 [==============================] - 1s 46us/sample - loss: 0.8624 - accuracy: 0.7431\n",
      "Test accuracy:  0.7430556\n"
     ]
    }
   ],
   "source": [
    "results = model.evaluate(X_test, y_test)\n",
    "print('Test accuracy: ', results[1])"
   ]
  },
  {
   "cell_type": "markdown",
   "metadata": {
    "colab_type": "text",
    "id": "sm4bhPUNyVyI"
   },
   "source": [
    "Three hidden layers seems to be be working good in our case. Let's play around with the number of activation units"
   ]
  },
  {
   "cell_type": "code",
   "execution_count": 50,
   "metadata": {
    "colab": {
     "base_uri": "https://localhost:8080/",
     "height": 1000
    },
    "colab_type": "code",
    "id": "z2kBV_SZynCs",
    "outputId": "31abb7b7-8eea-473b-856f-cb57c3033967"
   },
   "outputs": [
    {
     "name": "stdout",
     "output_type": "stream",
     "text": [
      "Train on 42000 samples\n",
      "Epoch 1/100\n",
      "42000/42000 [==============================] - 1s 30us/sample - loss: 2.3037 - accuracy: 0.1048\n",
      "Epoch 2/100\n",
      "42000/42000 [==============================] - 1s 23us/sample - loss: 2.2953 - accuracy: 0.1122\n",
      "Epoch 3/100\n",
      "42000/42000 [==============================] - 1s 23us/sample - loss: 2.2889 - accuracy: 0.1296\n",
      "Epoch 4/100\n",
      "42000/42000 [==============================] - 1s 23us/sample - loss: 2.2810 - accuracy: 0.1555\n",
      "Epoch 5/100\n",
      "42000/42000 [==============================] - 1s 23us/sample - loss: 2.2705 - accuracy: 0.1777\n",
      "Epoch 6/100\n",
      "42000/42000 [==============================] - 1s 23us/sample - loss: 2.2567 - accuracy: 0.2034\n",
      "Epoch 7/100\n",
      "42000/42000 [==============================] - 1s 24us/sample - loss: 2.2372 - accuracy: 0.2227\n",
      "Epoch 8/100\n",
      "42000/42000 [==============================] - 1s 23us/sample - loss: 2.2109 - accuracy: 0.2421\n",
      "Epoch 9/100\n",
      "42000/42000 [==============================] - 1s 23us/sample - loss: 2.1761 - accuracy: 0.2572\n",
      "Epoch 10/100\n",
      "42000/42000 [==============================] - 1s 24us/sample - loss: 2.1322 - accuracy: 0.2726\n",
      "Epoch 11/100\n",
      "42000/42000 [==============================] - 1s 23us/sample - loss: 2.0805 - accuracy: 0.2919\n",
      "Epoch 12/100\n",
      "42000/42000 [==============================] - 1s 22us/sample - loss: 2.0226 - accuracy: 0.3165\n",
      "Epoch 13/100\n",
      "42000/42000 [==============================] - 1s 23us/sample - loss: 1.9573 - accuracy: 0.3431\n",
      "Epoch 14/100\n",
      "42000/42000 [==============================] - 1s 24us/sample - loss: 1.8923 - accuracy: 0.3701\n",
      "Epoch 15/100\n",
      "42000/42000 [==============================] - 1s 23us/sample - loss: 1.8250 - accuracy: 0.3940\n",
      "Epoch 16/100\n",
      "42000/42000 [==============================] - 1s 24us/sample - loss: 1.7619 - accuracy: 0.4129\n",
      "Epoch 17/100\n",
      "42000/42000 [==============================] - 1s 22us/sample - loss: 1.7071 - accuracy: 0.4312\n",
      "Epoch 18/100\n",
      "42000/42000 [==============================] - 1s 22us/sample - loss: 1.6676 - accuracy: 0.4424\n",
      "Epoch 19/100\n",
      "42000/42000 [==============================] - 1s 23us/sample - loss: 1.6213 - accuracy: 0.4622\n",
      "Epoch 20/100\n",
      "42000/42000 [==============================] - 1s 24us/sample - loss: 1.5843 - accuracy: 0.4749\n",
      "Epoch 21/100\n",
      "42000/42000 [==============================] - 1s 24us/sample - loss: 1.5358 - accuracy: 0.4978\n",
      "Epoch 22/100\n",
      "42000/42000 [==============================] - 1s 23us/sample - loss: 1.4995 - accuracy: 0.5114\n",
      "Epoch 23/100\n",
      "42000/42000 [==============================] - 1s 22us/sample - loss: 1.4693 - accuracy: 0.5233\n",
      "Epoch 24/100\n",
      "42000/42000 [==============================] - 1s 24us/sample - loss: 1.4287 - accuracy: 0.5404\n",
      "Epoch 25/100\n",
      "42000/42000 [==============================] - 1s 23us/sample - loss: 1.4067 - accuracy: 0.5468\n",
      "Epoch 26/100\n",
      "42000/42000 [==============================] - 1s 24us/sample - loss: 1.3728 - accuracy: 0.5631\n",
      "Epoch 27/100\n",
      "42000/42000 [==============================] - 1s 23us/sample - loss: 1.3525 - accuracy: 0.5697\n",
      "Epoch 28/100\n",
      "42000/42000 [==============================] - 1s 24us/sample - loss: 1.3231 - accuracy: 0.5793\n",
      "Epoch 29/100\n",
      "42000/42000 [==============================] - 1s 23us/sample - loss: 1.3021 - accuracy: 0.5866\n",
      "Epoch 30/100\n",
      "42000/42000 [==============================] - 1s 24us/sample - loss: 1.2769 - accuracy: 0.5963\n",
      "Epoch 31/100\n",
      "42000/42000 [==============================] - 1s 24us/sample - loss: 1.2506 - accuracy: 0.6094\n",
      "Epoch 32/100\n",
      "42000/42000 [==============================] - 1s 23us/sample - loss: 1.2330 - accuracy: 0.6145\n",
      "Epoch 33/100\n",
      "42000/42000 [==============================] - 1s 22us/sample - loss: 1.2199 - accuracy: 0.6158\n",
      "Epoch 34/100\n",
      "42000/42000 [==============================] - 1s 22us/sample - loss: 1.1945 - accuracy: 0.6291\n",
      "Epoch 35/100\n",
      "42000/42000 [==============================] - 1s 22us/sample - loss: 1.1858 - accuracy: 0.6305\n",
      "Epoch 36/100\n",
      "42000/42000 [==============================] - 1s 22us/sample - loss: 1.1659 - accuracy: 0.6387\n",
      "Epoch 37/100\n",
      "42000/42000 [==============================] - 1s 23us/sample - loss: 1.1558 - accuracy: 0.6425\n",
      "Epoch 38/100\n",
      "42000/42000 [==============================] - 1s 22us/sample - loss: 1.1386 - accuracy: 0.6472\n",
      "Epoch 39/100\n",
      "42000/42000 [==============================] - 1s 22us/sample - loss: 1.1291 - accuracy: 0.6504\n",
      "Epoch 40/100\n",
      "42000/42000 [==============================] - 1s 23us/sample - loss: 1.1171 - accuracy: 0.6568\n",
      "Epoch 41/100\n",
      "42000/42000 [==============================] - 1s 23us/sample - loss: 1.1059 - accuracy: 0.6604\n",
      "Epoch 42/100\n",
      "42000/42000 [==============================] - 1s 23us/sample - loss: 1.0857 - accuracy: 0.6659\n",
      "Epoch 43/100\n",
      "42000/42000 [==============================] - 1s 22us/sample - loss: 1.0788 - accuracy: 0.6685\n",
      "Epoch 44/100\n",
      "42000/42000 [==============================] - 1s 22us/sample - loss: 1.0704 - accuracy: 0.6712\n",
      "Epoch 45/100\n",
      "42000/42000 [==============================] - 1s 22us/sample - loss: 1.0616 - accuracy: 0.6735\n",
      "Epoch 46/100\n",
      "42000/42000 [==============================] - 1s 22us/sample - loss: 1.0507 - accuracy: 0.6776\n",
      "Epoch 47/100\n",
      "42000/42000 [==============================] - 1s 22us/sample - loss: 1.0430 - accuracy: 0.6792\n",
      "Epoch 48/100\n",
      "42000/42000 [==============================] - 1s 22us/sample - loss: 1.0342 - accuracy: 0.6828\n",
      "Epoch 49/100\n",
      "42000/42000 [==============================] - 1s 22us/sample - loss: 1.0271 - accuracy: 0.6851\n",
      "Epoch 50/100\n",
      "42000/42000 [==============================] - 1s 22us/sample - loss: 1.0179 - accuracy: 0.6880\n",
      "Epoch 51/100\n",
      "42000/42000 [==============================] - 1s 22us/sample - loss: 1.0145 - accuracy: 0.6910\n",
      "Epoch 52/100\n",
      "42000/42000 [==============================] - 1s 23us/sample - loss: 1.0079 - accuracy: 0.6917\n",
      "Epoch 53/100\n",
      "42000/42000 [==============================] - 1s 22us/sample - loss: 0.9966 - accuracy: 0.6962\n",
      "Epoch 54/100\n",
      "42000/42000 [==============================] - 1s 22us/sample - loss: 0.9886 - accuracy: 0.6989\n",
      "Epoch 55/100\n",
      "42000/42000 [==============================] - 1s 22us/sample - loss: 0.9805 - accuracy: 0.6999\n",
      "Epoch 56/100\n",
      "42000/42000 [==============================] - 1s 22us/sample - loss: 0.9743 - accuracy: 0.7033\n",
      "Epoch 57/100\n",
      "42000/42000 [==============================] - 1s 23us/sample - loss: 0.9671 - accuracy: 0.7058\n",
      "Epoch 58/100\n",
      "42000/42000 [==============================] - 1s 22us/sample - loss: 0.9683 - accuracy: 0.7031\n",
      "Epoch 59/100\n",
      "42000/42000 [==============================] - 1s 22us/sample - loss: 0.9556 - accuracy: 0.7086\n",
      "Epoch 60/100\n",
      "42000/42000 [==============================] - 1s 23us/sample - loss: 0.9518 - accuracy: 0.7103\n",
      "Epoch 61/100\n",
      "42000/42000 [==============================] - 1s 23us/sample - loss: 0.9433 - accuracy: 0.7126\n",
      "Epoch 62/100\n",
      "42000/42000 [==============================] - 1s 22us/sample - loss: 0.9387 - accuracy: 0.7160\n",
      "Epoch 63/100\n",
      "42000/42000 [==============================] - 1s 22us/sample - loss: 0.9361 - accuracy: 0.7160\n",
      "Epoch 64/100\n",
      "42000/42000 [==============================] - 1s 23us/sample - loss: 0.9204 - accuracy: 0.7193\n",
      "Epoch 65/100\n",
      "42000/42000 [==============================] - 1s 22us/sample - loss: 0.9243 - accuracy: 0.7188\n",
      "Epoch 66/100\n",
      "42000/42000 [==============================] - 1s 23us/sample - loss: 0.9185 - accuracy: 0.7203\n",
      "Epoch 67/100\n",
      "42000/42000 [==============================] - 1s 22us/sample - loss: 0.9115 - accuracy: 0.7220\n",
      "Epoch 68/100\n",
      "42000/42000 [==============================] - 1s 23us/sample - loss: 0.9076 - accuracy: 0.7239\n",
      "Epoch 69/100\n",
      "42000/42000 [==============================] - 1s 22us/sample - loss: 0.9048 - accuracy: 0.7265\n",
      "Epoch 70/100\n",
      "42000/42000 [==============================] - 1s 22us/sample - loss: 0.8935 - accuracy: 0.7303\n",
      "Epoch 71/100\n",
      "42000/42000 [==============================] - 1s 23us/sample - loss: 0.9030 - accuracy: 0.7260\n",
      "Epoch 72/100\n",
      "42000/42000 [==============================] - 1s 24us/sample - loss: 0.8873 - accuracy: 0.7319\n",
      "Epoch 73/100\n",
      "42000/42000 [==============================] - 1s 24us/sample - loss: 0.8814 - accuracy: 0.7323\n",
      "Epoch 74/100\n",
      "42000/42000 [==============================] - 1s 23us/sample - loss: 0.8808 - accuracy: 0.7348\n",
      "Epoch 75/100\n",
      "42000/42000 [==============================] - 1s 24us/sample - loss: 0.8742 - accuracy: 0.7356\n",
      "Epoch 76/100\n",
      "42000/42000 [==============================] - 1s 23us/sample - loss: 0.8697 - accuracy: 0.7365\n",
      "Epoch 77/100\n",
      "42000/42000 [==============================] - 1s 22us/sample - loss: 0.8676 - accuracy: 0.7368\n",
      "Epoch 78/100\n",
      "42000/42000 [==============================] - 1s 22us/sample - loss: 0.8628 - accuracy: 0.7388\n",
      "Epoch 79/100\n",
      "42000/42000 [==============================] - 1s 22us/sample - loss: 0.8598 - accuracy: 0.7390\n",
      "Epoch 80/100\n",
      "42000/42000 [==============================] - 1s 22us/sample - loss: 0.8523 - accuracy: 0.7414\n",
      "Epoch 81/100\n",
      "42000/42000 [==============================] - 1s 22us/sample - loss: 0.8474 - accuracy: 0.7436\n",
      "Epoch 82/100\n",
      "42000/42000 [==============================] - 1s 22us/sample - loss: 0.8485 - accuracy: 0.7442\n",
      "Epoch 83/100\n",
      "42000/42000 [==============================] - 1s 22us/sample - loss: 0.8384 - accuracy: 0.7481\n",
      "Epoch 84/100\n",
      "42000/42000 [==============================] - 1s 23us/sample - loss: 0.8367 - accuracy: 0.7474\n",
      "Epoch 85/100\n",
      "42000/42000 [==============================] - 1s 22us/sample - loss: 0.8321 - accuracy: 0.7486\n",
      "Epoch 86/100\n",
      "42000/42000 [==============================] - 1s 23us/sample - loss: 0.8316 - accuracy: 0.7472\n",
      "Epoch 87/100\n",
      "42000/42000 [==============================] - 1s 22us/sample - loss: 0.8228 - accuracy: 0.7522\n",
      "Epoch 88/100\n",
      "42000/42000 [==============================] - 1s 23us/sample - loss: 0.8266 - accuracy: 0.7498\n",
      "Epoch 89/100\n",
      "42000/42000 [==============================] - 1s 23us/sample - loss: 0.8162 - accuracy: 0.7540\n",
      "Epoch 90/100\n",
      "42000/42000 [==============================] - 1s 23us/sample - loss: 0.8257 - accuracy: 0.7505\n",
      "Epoch 91/100\n",
      "42000/42000 [==============================] - 1s 23us/sample - loss: 0.8107 - accuracy: 0.7550\n",
      "Epoch 92/100\n",
      "42000/42000 [==============================] - 1s 23us/sample - loss: 0.8070 - accuracy: 0.7572\n",
      "Epoch 93/100\n",
      "42000/42000 [==============================] - 1s 22us/sample - loss: 0.8017 - accuracy: 0.7574\n",
      "Epoch 94/100\n",
      "42000/42000 [==============================] - 1s 22us/sample - loss: 0.8011 - accuracy: 0.7551\n",
      "Epoch 95/100\n",
      "42000/42000 [==============================] - 1s 23us/sample - loss: 0.8039 - accuracy: 0.7567\n",
      "Epoch 96/100\n",
      "42000/42000 [==============================] - 1s 23us/sample - loss: 0.7972 - accuracy: 0.7581\n",
      "Epoch 97/100\n",
      "42000/42000 [==============================] - 1s 23us/sample - loss: 0.8010 - accuracy: 0.7577\n",
      "Epoch 98/100\n",
      "42000/42000 [==============================] - 1s 23us/sample - loss: 0.7858 - accuracy: 0.7628\n",
      "Epoch 99/100\n",
      "42000/42000 [==============================] - 1s 23us/sample - loss: 0.7900 - accuracy: 0.7606\n",
      "Epoch 100/100\n",
      "42000/42000 [==============================] - 1s 23us/sample - loss: 0.7815 - accuracy: 0.7642\n"
     ]
    }
   ],
   "source": [
    "model = Sequential()\n",
    "model.add(Dense(50, input_shape = (1024, )))\n",
    "model.add(Activation('relu'))\n",
    "model.add(Dense(40))\n",
    "model.add(Activation('relu'))\n",
    "model.add(Dense(30))\n",
    "model.add(Activation('relu'))\n",
    "model.add(Dense(10))\n",
    "model.add(Activation('softmax'))\n",
    "\n",
    "sgd = optimizers.SGD(lr = 0.01)\n",
    "model.compile(optimizer = sgd, loss = 'categorical_crossentropy', metrics = ['accuracy'])\n",
    "\n",
    "history = model.fit(X_train, y_train, batch_size = 200, epochs = 100, verbose = 1)"
   ]
  },
  {
   "cell_type": "code",
   "execution_count": 51,
   "metadata": {
    "colab": {
     "base_uri": "https://localhost:8080/",
     "height": 50
    },
    "colab_type": "code",
    "id": "QqyppIJqyx2q",
    "outputId": "703dbb22-9801-4515-f466-7c340f72ba72"
   },
   "outputs": [
    {
     "name": "stdout",
     "output_type": "stream",
     "text": [
      "18000/18000 [==============================] - 1s 45us/sample - loss: 0.8621 - accuracy: 0.7479\n",
      "Test accuracy:  0.74788886\n"
     ]
    }
   ],
   "source": [
    "results = model.evaluate(X_test, y_test)\n",
    "print('Test accuracy: ', results[1])"
   ]
  },
  {
   "cell_type": "markdown",
   "metadata": {
    "colab_type": "text",
    "id": "U2WbZtmP1nD8"
   },
   "source": [
    "The above combination is working well. Let's proceed with this combination and try diferent weight utilization"
   ]
  },
  {
   "cell_type": "code",
   "execution_count": 58,
   "metadata": {
    "colab": {
     "base_uri": "https://localhost:8080/",
     "height": 1000
    },
    "colab_type": "code",
    "id": "zRBy46-q3l4d",
    "outputId": "c4e94a90-e1c1-40bf-f3b9-3f8e0eeb62f6"
   },
   "outputs": [
    {
     "name": "stdout",
     "output_type": "stream",
     "text": [
      "Train on 42000 samples\n",
      "Epoch 1/100\n",
      "42000/42000 [==============================] - 1s 32us/sample - loss: 2.2989 - accuracy: 0.1138\n",
      "Epoch 2/100\n",
      "42000/42000 [==============================] - 1s 23us/sample - loss: 2.2738 - accuracy: 0.1418\n",
      "Epoch 3/100\n",
      "42000/42000 [==============================] - 1s 23us/sample - loss: 2.2423 - accuracy: 0.1750\n",
      "Epoch 4/100\n",
      "42000/42000 [==============================] - 1s 23us/sample - loss: 2.1956 - accuracy: 0.2059\n",
      "Epoch 5/100\n",
      "42000/42000 [==============================] - 1s 24us/sample - loss: 2.1360 - accuracy: 0.2404\n",
      "Epoch 6/100\n",
      "42000/42000 [==============================] - 1s 24us/sample - loss: 2.0662 - accuracy: 0.2747\n",
      "Epoch 7/100\n",
      "42000/42000 [==============================] - 1s 23us/sample - loss: 1.9885 - accuracy: 0.3072\n",
      "Epoch 8/100\n",
      "42000/42000 [==============================] - 1s 23us/sample - loss: 1.9132 - accuracy: 0.3363\n",
      "Epoch 9/100\n",
      "42000/42000 [==============================] - 1s 24us/sample - loss: 1.8478 - accuracy: 0.3629\n",
      "Epoch 10/100\n",
      "42000/42000 [==============================] - 1s 23us/sample - loss: 1.7882 - accuracy: 0.3866\n",
      "Epoch 11/100\n",
      "42000/42000 [==============================] - 1s 24us/sample - loss: 1.7354 - accuracy: 0.4095\n",
      "Epoch 12/100\n",
      "42000/42000 [==============================] - 1s 22us/sample - loss: 1.6748 - accuracy: 0.4332\n",
      "Epoch 13/100\n",
      "42000/42000 [==============================] - 1s 23us/sample - loss: 1.6365 - accuracy: 0.4501\n",
      "Epoch 14/100\n",
      "42000/42000 [==============================] - 1s 23us/sample - loss: 1.5954 - accuracy: 0.4670\n",
      "Epoch 15/100\n",
      "42000/42000 [==============================] - 1s 23us/sample - loss: 1.5463 - accuracy: 0.4897\n",
      "Epoch 16/100\n",
      "42000/42000 [==============================] - 1s 24us/sample - loss: 1.5047 - accuracy: 0.5123\n",
      "Epoch 17/100\n",
      "42000/42000 [==============================] - 1s 23us/sample - loss: 1.4839 - accuracy: 0.5188\n",
      "Epoch 18/100\n",
      "42000/42000 [==============================] - 1s 23us/sample - loss: 1.4513 - accuracy: 0.5303\n",
      "Epoch 19/100\n",
      "42000/42000 [==============================] - 1s 23us/sample - loss: 1.4180 - accuracy: 0.5450\n",
      "Epoch 20/100\n",
      "42000/42000 [==============================] - 1s 24us/sample - loss: 1.3783 - accuracy: 0.5614\n",
      "Epoch 21/100\n",
      "42000/42000 [==============================] - 1s 23us/sample - loss: 1.3646 - accuracy: 0.5680\n",
      "Epoch 22/100\n",
      "42000/42000 [==============================] - 1s 23us/sample - loss: 1.3312 - accuracy: 0.5775\n",
      "Epoch 23/100\n",
      "42000/42000 [==============================] - 1s 23us/sample - loss: 1.3072 - accuracy: 0.5886\n",
      "Epoch 24/100\n",
      "42000/42000 [==============================] - 1s 23us/sample - loss: 1.2938 - accuracy: 0.5958\n",
      "Epoch 25/100\n",
      "42000/42000 [==============================] - 1s 23us/sample - loss: 1.2673 - accuracy: 0.6032\n",
      "Epoch 26/100\n",
      "42000/42000 [==============================] - 1s 24us/sample - loss: 1.2459 - accuracy: 0.6122\n",
      "Epoch 27/100\n",
      "42000/42000 [==============================] - 1s 24us/sample - loss: 1.2302 - accuracy: 0.6174\n",
      "Epoch 28/100\n",
      "42000/42000 [==============================] - 1s 23us/sample - loss: 1.2104 - accuracy: 0.6253\n",
      "Epoch 29/100\n",
      "42000/42000 [==============================] - 1s 24us/sample - loss: 1.1906 - accuracy: 0.6310\n",
      "Epoch 30/100\n",
      "42000/42000 [==============================] - 1s 24us/sample - loss: 1.1814 - accuracy: 0.6342\n",
      "Epoch 31/100\n",
      "42000/42000 [==============================] - 1s 24us/sample - loss: 1.1653 - accuracy: 0.6399\n",
      "Epoch 32/100\n",
      "42000/42000 [==============================] - 1s 23us/sample - loss: 1.1434 - accuracy: 0.6480\n",
      "Epoch 33/100\n",
      "42000/42000 [==============================] - 1s 22us/sample - loss: 1.1355 - accuracy: 0.6508\n",
      "Epoch 34/100\n",
      "42000/42000 [==============================] - 1s 23us/sample - loss: 1.1196 - accuracy: 0.6575\n",
      "Epoch 35/100\n",
      "42000/42000 [==============================] - 1s 23us/sample - loss: 1.1045 - accuracy: 0.6609\n",
      "Epoch 36/100\n",
      "42000/42000 [==============================] - 1s 25us/sample - loss: 1.0903 - accuracy: 0.6660\n",
      "Epoch 37/100\n",
      "42000/42000 [==============================] - 1s 24us/sample - loss: 1.0814 - accuracy: 0.6704\n",
      "Epoch 38/100\n",
      "42000/42000 [==============================] - 1s 23us/sample - loss: 1.0715 - accuracy: 0.6739\n",
      "Epoch 39/100\n",
      "42000/42000 [==============================] - 1s 23us/sample - loss: 1.0574 - accuracy: 0.6776\n",
      "Epoch 40/100\n",
      "42000/42000 [==============================] - 1s 22us/sample - loss: 1.0437 - accuracy: 0.6813\n",
      "Epoch 41/100\n",
      "42000/42000 [==============================] - 1s 23us/sample - loss: 1.0294 - accuracy: 0.6867\n",
      "Epoch 42/100\n",
      "42000/42000 [==============================] - 1s 23us/sample - loss: 1.0319 - accuracy: 0.6848\n",
      "Epoch 43/100\n",
      "42000/42000 [==============================] - 1s 23us/sample - loss: 1.0133 - accuracy: 0.6922\n",
      "Epoch 44/100\n",
      "42000/42000 [==============================] - 1s 23us/sample - loss: 1.0045 - accuracy: 0.6942\n",
      "Epoch 45/100\n",
      "42000/42000 [==============================] - 1s 23us/sample - loss: 1.0052 - accuracy: 0.6942\n",
      "Epoch 46/100\n",
      "42000/42000 [==============================] - 1s 22us/sample - loss: 0.9899 - accuracy: 0.6990\n",
      "Epoch 47/100\n",
      "42000/42000 [==============================] - 1s 23us/sample - loss: 0.9781 - accuracy: 0.7032\n",
      "Epoch 48/100\n",
      "42000/42000 [==============================] - 1s 23us/sample - loss: 0.9723 - accuracy: 0.7060\n",
      "Epoch 49/100\n",
      "42000/42000 [==============================] - 1s 22us/sample - loss: 0.9614 - accuracy: 0.7081\n",
      "Epoch 50/100\n",
      "42000/42000 [==============================] - 1s 23us/sample - loss: 0.9625 - accuracy: 0.7101\n",
      "Epoch 51/100\n",
      "42000/42000 [==============================] - 1s 23us/sample - loss: 0.9509 - accuracy: 0.7111\n",
      "Epoch 52/100\n",
      "42000/42000 [==============================] - 1s 24us/sample - loss: 0.9441 - accuracy: 0.7143\n",
      "Epoch 53/100\n",
      "42000/42000 [==============================] - 1s 22us/sample - loss: 0.9405 - accuracy: 0.7155\n",
      "Epoch 54/100\n",
      "42000/42000 [==============================] - 1s 23us/sample - loss: 0.9304 - accuracy: 0.7193\n",
      "Epoch 55/100\n",
      "42000/42000 [==============================] - 1s 22us/sample - loss: 0.9260 - accuracy: 0.7199\n",
      "Epoch 56/100\n",
      "42000/42000 [==============================] - 1s 22us/sample - loss: 0.9204 - accuracy: 0.7204\n",
      "Epoch 57/100\n",
      "42000/42000 [==============================] - 1s 23us/sample - loss: 0.9132 - accuracy: 0.7222\n",
      "Epoch 58/100\n",
      "42000/42000 [==============================] - 1s 23us/sample - loss: 0.9118 - accuracy: 0.7239\n",
      "Epoch 59/100\n",
      "42000/42000 [==============================] - 1s 22us/sample - loss: 0.8988 - accuracy: 0.7275\n",
      "Epoch 60/100\n",
      "42000/42000 [==============================] - 1s 22us/sample - loss: 0.8937 - accuracy: 0.7288\n",
      "Epoch 61/100\n",
      "42000/42000 [==============================] - 1s 22us/sample - loss: 0.8918 - accuracy: 0.7300\n",
      "Epoch 62/100\n",
      "42000/42000 [==============================] - 1s 22us/sample - loss: 0.8881 - accuracy: 0.7308\n",
      "Epoch 63/100\n",
      "42000/42000 [==============================] - 1s 23us/sample - loss: 0.8885 - accuracy: 0.7305\n",
      "Epoch 64/100\n",
      "42000/42000 [==============================] - 1s 22us/sample - loss: 0.8758 - accuracy: 0.7350\n",
      "Epoch 65/100\n",
      "42000/42000 [==============================] - 1s 22us/sample - loss: 0.8738 - accuracy: 0.7360\n",
      "Epoch 66/100\n",
      "42000/42000 [==============================] - 1s 22us/sample - loss: 0.8660 - accuracy: 0.7398\n",
      "Epoch 67/100\n",
      "42000/42000 [==============================] - 1s 23us/sample - loss: 0.8657 - accuracy: 0.7362\n",
      "Epoch 68/100\n",
      "42000/42000 [==============================] - 1s 22us/sample - loss: 0.8558 - accuracy: 0.7405\n",
      "Epoch 69/100\n",
      "42000/42000 [==============================] - 1s 22us/sample - loss: 0.8512 - accuracy: 0.7422\n",
      "Epoch 70/100\n",
      "42000/42000 [==============================] - 1s 22us/sample - loss: 0.8499 - accuracy: 0.7435\n",
      "Epoch 71/100\n",
      "42000/42000 [==============================] - 1s 23us/sample - loss: 0.8447 - accuracy: 0.7445\n",
      "Epoch 72/100\n",
      "42000/42000 [==============================] - 1s 22us/sample - loss: 0.8384 - accuracy: 0.7454\n",
      "Epoch 73/100\n",
      "42000/42000 [==============================] - 1s 23us/sample - loss: 0.8390 - accuracy: 0.7462\n",
      "Epoch 74/100\n",
      "42000/42000 [==============================] - 1s 22us/sample - loss: 0.8335 - accuracy: 0.7472\n",
      "Epoch 75/100\n",
      "42000/42000 [==============================] - 1s 22us/sample - loss: 0.8334 - accuracy: 0.7473\n",
      "Epoch 76/100\n",
      "42000/42000 [==============================] - 1s 24us/sample - loss: 0.8241 - accuracy: 0.7525\n",
      "Epoch 77/100\n",
      "42000/42000 [==============================] - 1s 21us/sample - loss: 0.8212 - accuracy: 0.7512\n",
      "Epoch 78/100\n",
      "42000/42000 [==============================] - 1s 23us/sample - loss: 0.8183 - accuracy: 0.7527\n",
      "Epoch 79/100\n",
      "42000/42000 [==============================] - 1s 24us/sample - loss: 0.8129 - accuracy: 0.7566\n",
      "Epoch 80/100\n",
      "42000/42000 [==============================] - 1s 25us/sample - loss: 0.8105 - accuracy: 0.7568\n",
      "Epoch 81/100\n",
      "42000/42000 [==============================] - 1s 25us/sample - loss: 0.8055 - accuracy: 0.7572\n",
      "Epoch 82/100\n",
      "42000/42000 [==============================] - 1s 25us/sample - loss: 0.8062 - accuracy: 0.7561\n",
      "Epoch 83/100\n",
      "42000/42000 [==============================] - 1s 25us/sample - loss: 0.8014 - accuracy: 0.7576\n",
      "Epoch 84/100\n",
      "42000/42000 [==============================] - 1s 24us/sample - loss: 0.7937 - accuracy: 0.7596\n",
      "Epoch 85/100\n",
      "42000/42000 [==============================] - 1s 22us/sample - loss: 0.7935 - accuracy: 0.7599\n",
      "Epoch 86/100\n",
      "42000/42000 [==============================] - 1s 23us/sample - loss: 0.7932 - accuracy: 0.7620\n",
      "Epoch 87/100\n",
      "42000/42000 [==============================] - 1s 23us/sample - loss: 0.7852 - accuracy: 0.7635\n",
      "Epoch 88/100\n",
      "42000/42000 [==============================] - 1s 23us/sample - loss: 0.7884 - accuracy: 0.7641\n",
      "Epoch 89/100\n",
      "42000/42000 [==============================] - 1s 24us/sample - loss: 0.7772 - accuracy: 0.7660\n",
      "Epoch 90/100\n",
      "42000/42000 [==============================] - 1s 22us/sample - loss: 0.7829 - accuracy: 0.7650\n",
      "Epoch 91/100\n",
      "42000/42000 [==============================] - 1s 22us/sample - loss: 0.7794 - accuracy: 0.7654\n",
      "Epoch 92/100\n",
      "42000/42000 [==============================] - 1s 22us/sample - loss: 0.7718 - accuracy: 0.7675\n",
      "Epoch 93/100\n",
      "42000/42000 [==============================] - 1s 22us/sample - loss: 0.7649 - accuracy: 0.7692\n",
      "Epoch 94/100\n",
      "42000/42000 [==============================] - 1s 22us/sample - loss: 0.7622 - accuracy: 0.7683\n",
      "Epoch 95/100\n",
      "42000/42000 [==============================] - 1s 22us/sample - loss: 0.7636 - accuracy: 0.7685\n",
      "Epoch 96/100\n",
      "42000/42000 [==============================] - 1s 22us/sample - loss: 0.7625 - accuracy: 0.7691\n",
      "Epoch 97/100\n",
      "42000/42000 [==============================] - 1s 23us/sample - loss: 0.7586 - accuracy: 0.7723\n",
      "Epoch 98/100\n",
      "42000/42000 [==============================] - 1s 24us/sample - loss: 0.7578 - accuracy: 0.7726\n",
      "Epoch 99/100\n",
      "42000/42000 [==============================] - 1s 23us/sample - loss: 0.7496 - accuracy: 0.7756\n",
      "Epoch 100/100\n",
      "42000/42000 [==============================] - 1s 23us/sample - loss: 0.7526 - accuracy: 0.7724\n"
     ]
    }
   ],
   "source": [
    "model = Sequential()\n",
    "model.add(Dense(50, input_shape = (1024, ), kernel_initializer='he_normal'))\n",
    "model.add(Activation('relu'))\n",
    "model.add(Dense(40, kernel_initializer='he_uniform'))\n",
    "model.add(Activation('relu'))\n",
    "model.add(Dense(30, kernel_initializer='he_uniform'))\n",
    "model.add(Activation('relu'))\n",
    "model.add(Dense(10, kernel_initializer='he_uniform'))\n",
    "model.add(Activation('softmax'))\n",
    "\n",
    "sgd = optimizers.SGD(lr = 0.01)\n",
    "model.compile(optimizer = sgd, loss = 'categorical_crossentropy', metrics = ['accuracy'])\n",
    "\n",
    "history = model.fit(X_train, y_train, batch_size = 200, epochs = 100, verbose = 1)"
   ]
  },
  {
   "cell_type": "code",
   "execution_count": 59,
   "metadata": {
    "colab": {
     "base_uri": "https://localhost:8080/",
     "height": 50
    },
    "colab_type": "code",
    "id": "PlGqxFw44S5x",
    "outputId": "88cb1fb7-2d34-4e18-a4d8-645220cdaea7"
   },
   "outputs": [
    {
     "name": "stdout",
     "output_type": "stream",
     "text": [
      "18000/18000 [==============================] - 1s 48us/sample - loss: 0.8228 - accuracy: 0.7546\n",
      "Test accuracy:  0.75461113\n"
     ]
    }
   ],
   "source": [
    "results = model.evaluate(X_test, y_test)\n",
    "print('Test accuracy: ', results[1])"
   ]
  },
  {
   "cell_type": "markdown",
   "metadata": {
    "colab_type": "text",
    "id": "Q2-9_f2Q7DXu"
   },
   "source": [
    "Wight initialization with He-Uniform worked really well. Now let's add Batch Normalization"
   ]
  },
  {
   "cell_type": "code",
   "execution_count": 64,
   "metadata": {
    "colab": {
     "base_uri": "https://localhost:8080/",
     "height": 1000
    },
    "colab_type": "code",
    "id": "-oEUsty47Mew",
    "outputId": "175d9dbb-da02-4c23-986c-718b36ff3eb6"
   },
   "outputs": [
    {
     "name": "stdout",
     "output_type": "stream",
     "text": [
      "Train on 42000 samples\n",
      "Epoch 1/100\n",
      "42000/42000 [==============================] - 2s 46us/sample - loss: 2.3043 - accuracy: 0.1666\n",
      "Epoch 2/100\n",
      "42000/42000 [==============================] - 1s 28us/sample - loss: 2.0202 - accuracy: 0.2904\n",
      "Epoch 3/100\n",
      "42000/42000 [==============================] - 1s 28us/sample - loss: 1.8063 - accuracy: 0.3973\n",
      "Epoch 4/100\n",
      "42000/42000 [==============================] - 1s 27us/sample - loss: 1.6145 - accuracy: 0.4877\n",
      "Epoch 5/100\n",
      "42000/42000 [==============================] - 1s 26us/sample - loss: 1.4588 - accuracy: 0.5541\n",
      "Epoch 6/100\n",
      "42000/42000 [==============================] - 1s 26us/sample - loss: 1.3435 - accuracy: 0.5976\n",
      "Epoch 7/100\n",
      "42000/42000 [==============================] - 1s 27us/sample - loss: 1.2521 - accuracy: 0.6284\n",
      "Epoch 8/100\n",
      "42000/42000 [==============================] - 1s 29us/sample - loss: 1.1756 - accuracy: 0.6512\n",
      "Epoch 9/100\n",
      "42000/42000 [==============================] - 1s 27us/sample - loss: 1.1168 - accuracy: 0.6695\n",
      "Epoch 10/100\n",
      "42000/42000 [==============================] - 1s 28us/sample - loss: 1.0673 - accuracy: 0.6806\n",
      "Epoch 11/100\n",
      "42000/42000 [==============================] - 1s 28us/sample - loss: 1.0260 - accuracy: 0.6921\n",
      "Epoch 12/100\n",
      "42000/42000 [==============================] - 1s 29us/sample - loss: 0.9935 - accuracy: 0.7014\n",
      "Epoch 13/100\n",
      "42000/42000 [==============================] - 1s 28us/sample - loss: 0.9626 - accuracy: 0.7082\n",
      "Epoch 14/100\n",
      "42000/42000 [==============================] - 1s 28us/sample - loss: 0.9350 - accuracy: 0.7165\n",
      "Epoch 15/100\n",
      "42000/42000 [==============================] - 1s 28us/sample - loss: 0.9126 - accuracy: 0.7215\n",
      "Epoch 16/100\n",
      "42000/42000 [==============================] - 1s 27us/sample - loss: 0.8878 - accuracy: 0.7312\n",
      "Epoch 17/100\n",
      "42000/42000 [==============================] - 1s 28us/sample - loss: 0.8680 - accuracy: 0.7348\n",
      "Epoch 18/100\n",
      "42000/42000 [==============================] - 1s 27us/sample - loss: 0.8519 - accuracy: 0.7394\n",
      "Epoch 19/100\n",
      "42000/42000 [==============================] - 1s 27us/sample - loss: 0.8354 - accuracy: 0.7442\n",
      "Epoch 20/100\n",
      "42000/42000 [==============================] - 1s 28us/sample - loss: 0.8209 - accuracy: 0.7501\n",
      "Epoch 21/100\n",
      "42000/42000 [==============================] - 1s 29us/sample - loss: 0.8104 - accuracy: 0.7493\n",
      "Epoch 22/100\n",
      "42000/42000 [==============================] - 1s 27us/sample - loss: 0.8006 - accuracy: 0.7513\n",
      "Epoch 23/100\n",
      "42000/42000 [==============================] - 1s 27us/sample - loss: 0.7882 - accuracy: 0.7567\n",
      "Epoch 24/100\n",
      "42000/42000 [==============================] - 1s 27us/sample - loss: 0.7711 - accuracy: 0.7624\n",
      "Epoch 25/100\n",
      "42000/42000 [==============================] - 1s 28us/sample - loss: 0.7641 - accuracy: 0.7638\n",
      "Epoch 26/100\n",
      "42000/42000 [==============================] - 1s 27us/sample - loss: 0.7521 - accuracy: 0.7671\n",
      "Epoch 27/100\n",
      "42000/42000 [==============================] - 1s 28us/sample - loss: 0.7472 - accuracy: 0.7700\n",
      "Epoch 28/100\n",
      "42000/42000 [==============================] - 1s 27us/sample - loss: 0.7307 - accuracy: 0.7726\n",
      "Epoch 29/100\n",
      "42000/42000 [==============================] - 1s 27us/sample - loss: 0.7247 - accuracy: 0.7757\n",
      "Epoch 30/100\n",
      "42000/42000 [==============================] - 1s 29us/sample - loss: 0.7200 - accuracy: 0.7784\n",
      "Epoch 31/100\n",
      "42000/42000 [==============================] - 1s 27us/sample - loss: 0.7109 - accuracy: 0.7787\n",
      "Epoch 32/100\n",
      "42000/42000 [==============================] - 1s 27us/sample - loss: 0.7009 - accuracy: 0.7826\n",
      "Epoch 33/100\n",
      "42000/42000 [==============================] - 1s 28us/sample - loss: 0.6952 - accuracy: 0.7843\n",
      "Epoch 34/100\n",
      "42000/42000 [==============================] - 1s 28us/sample - loss: 0.6814 - accuracy: 0.7872\n",
      "Epoch 35/100\n",
      "42000/42000 [==============================] - 1s 27us/sample - loss: 0.6830 - accuracy: 0.7884\n",
      "Epoch 36/100\n",
      "42000/42000 [==============================] - 1s 28us/sample - loss: 0.6772 - accuracy: 0.7904\n",
      "Epoch 37/100\n",
      "42000/42000 [==============================] - 1s 29us/sample - loss: 0.6675 - accuracy: 0.7940\n",
      "Epoch 38/100\n",
      "42000/42000 [==============================] - 1s 27us/sample - loss: 0.6638 - accuracy: 0.7958\n",
      "Epoch 39/100\n",
      "42000/42000 [==============================] - 1s 28us/sample - loss: 0.6552 - accuracy: 0.7965\n",
      "Epoch 40/100\n",
      "42000/42000 [==============================] - 1s 28us/sample - loss: 0.6476 - accuracy: 0.7985\n",
      "Epoch 41/100\n",
      "42000/42000 [==============================] - 1s 27us/sample - loss: 0.6467 - accuracy: 0.7975\n",
      "Epoch 42/100\n",
      "42000/42000 [==============================] - 1s 28us/sample - loss: 0.6413 - accuracy: 0.8025\n",
      "Epoch 43/100\n",
      "42000/42000 [==============================] - 1s 28us/sample - loss: 0.6348 - accuracy: 0.8017\n",
      "Epoch 44/100\n",
      "42000/42000 [==============================] - 1s 28us/sample - loss: 0.6312 - accuracy: 0.8035\n",
      "Epoch 45/100\n",
      "42000/42000 [==============================] - 1s 28us/sample - loss: 0.6260 - accuracy: 0.8064\n",
      "Epoch 46/100\n",
      "42000/42000 [==============================] - 1s 28us/sample - loss: 0.6218 - accuracy: 0.8071\n",
      "Epoch 47/100\n",
      "42000/42000 [==============================] - 1s 27us/sample - loss: 0.6220 - accuracy: 0.8072\n",
      "Epoch 48/100\n",
      "42000/42000 [==============================] - 1s 29us/sample - loss: 0.6091 - accuracy: 0.8111\n",
      "Epoch 49/100\n",
      "42000/42000 [==============================] - 1s 28us/sample - loss: 0.6102 - accuracy: 0.8105\n",
      "Epoch 50/100\n",
      "42000/42000 [==============================] - 1s 29us/sample - loss: 0.6054 - accuracy: 0.8116\n",
      "Epoch 51/100\n",
      "42000/42000 [==============================] - 1s 28us/sample - loss: 0.5996 - accuracy: 0.8141\n",
      "Epoch 52/100\n",
      "42000/42000 [==============================] - 1s 29us/sample - loss: 0.5989 - accuracy: 0.8138\n",
      "Epoch 53/100\n",
      "42000/42000 [==============================] - 1s 29us/sample - loss: 0.5943 - accuracy: 0.8151\n",
      "Epoch 54/100\n",
      "42000/42000 [==============================] - 1s 28us/sample - loss: 0.5931 - accuracy: 0.8168\n",
      "Epoch 55/100\n",
      "42000/42000 [==============================] - 1s 28us/sample - loss: 0.5875 - accuracy: 0.8176\n",
      "Epoch 56/100\n",
      "42000/42000 [==============================] - 1s 27us/sample - loss: 0.5802 - accuracy: 0.8192\n",
      "Epoch 57/100\n",
      "42000/42000 [==============================] - 1s 28us/sample - loss: 0.5804 - accuracy: 0.8214\n",
      "Epoch 58/100\n",
      "42000/42000 [==============================] - 1s 28us/sample - loss: 0.5828 - accuracy: 0.8199\n",
      "Epoch 59/100\n",
      "42000/42000 [==============================] - 1s 29us/sample - loss: 0.5745 - accuracy: 0.8221\n",
      "Epoch 60/100\n",
      "42000/42000 [==============================] - 1s 28us/sample - loss: 0.5688 - accuracy: 0.8242\n",
      "Epoch 61/100\n",
      "42000/42000 [==============================] - 1s 27us/sample - loss: 0.5673 - accuracy: 0.8256\n",
      "Epoch 62/100\n",
      "42000/42000 [==============================] - 1s 28us/sample - loss: 0.5682 - accuracy: 0.8236\n",
      "Epoch 63/100\n",
      "42000/42000 [==============================] - 1s 26us/sample - loss: 0.5669 - accuracy: 0.8236\n",
      "Epoch 64/100\n",
      "42000/42000 [==============================] - 1s 28us/sample - loss: 0.5611 - accuracy: 0.8268\n",
      "Epoch 65/100\n",
      "42000/42000 [==============================] - 1s 28us/sample - loss: 0.5551 - accuracy: 0.8260\n",
      "Epoch 66/100\n",
      "42000/42000 [==============================] - 1s 28us/sample - loss: 0.5554 - accuracy: 0.8280\n",
      "Epoch 67/100\n",
      "42000/42000 [==============================] - 1s 27us/sample - loss: 0.5518 - accuracy: 0.8306\n",
      "Epoch 68/100\n",
      "42000/42000 [==============================] - 1s 30us/sample - loss: 0.5489 - accuracy: 0.8301\n",
      "Epoch 69/100\n",
      "42000/42000 [==============================] - 1s 28us/sample - loss: 0.5483 - accuracy: 0.8299\n",
      "Epoch 70/100\n",
      "42000/42000 [==============================] - 1s 31us/sample - loss: 0.5477 - accuracy: 0.8295\n",
      "Epoch 71/100\n",
      "42000/42000 [==============================] - 1s 31us/sample - loss: 0.5433 - accuracy: 0.8316\n",
      "Epoch 72/100\n",
      "42000/42000 [==============================] - 1s 32us/sample - loss: 0.5381 - accuracy: 0.8342\n",
      "Epoch 73/100\n",
      "42000/42000 [==============================] - 1s 30us/sample - loss: 0.5385 - accuracy: 0.8327\n",
      "Epoch 74/100\n",
      "42000/42000 [==============================] - 1s 31us/sample - loss: 0.5357 - accuracy: 0.8321\n",
      "Epoch 75/100\n",
      "42000/42000 [==============================] - 1s 31us/sample - loss: 0.5335 - accuracy: 0.8325\n",
      "Epoch 76/100\n",
      "42000/42000 [==============================] - 1s 31us/sample - loss: 0.5269 - accuracy: 0.8351\n",
      "Epoch 77/100\n",
      "42000/42000 [==============================] - 1s 30us/sample - loss: 0.5290 - accuracy: 0.8338\n",
      "Epoch 78/100\n",
      "42000/42000 [==============================] - 1s 30us/sample - loss: 0.5279 - accuracy: 0.8347\n",
      "Epoch 79/100\n",
      "42000/42000 [==============================] - 1s 31us/sample - loss: 0.5244 - accuracy: 0.8351\n",
      "Epoch 80/100\n",
      "42000/42000 [==============================] - 1s 29us/sample - loss: 0.5247 - accuracy: 0.8370\n",
      "Epoch 81/100\n",
      "42000/42000 [==============================] - 1s 30us/sample - loss: 0.5250 - accuracy: 0.8379\n",
      "Epoch 82/100\n",
      "42000/42000 [==============================] - 1s 30us/sample - loss: 0.5216 - accuracy: 0.8355\n",
      "Epoch 83/100\n",
      "42000/42000 [==============================] - 1s 32us/sample - loss: 0.5164 - accuracy: 0.8391\n",
      "Epoch 84/100\n",
      "42000/42000 [==============================] - 1s 29us/sample - loss: 0.5128 - accuracy: 0.8401\n",
      "Epoch 85/100\n",
      "42000/42000 [==============================] - 1s 30us/sample - loss: 0.5116 - accuracy: 0.8400\n",
      "Epoch 86/100\n",
      "42000/42000 [==============================] - 1s 30us/sample - loss: 0.5109 - accuracy: 0.8417\n",
      "Epoch 87/100\n",
      "42000/42000 [==============================] - 1s 28us/sample - loss: 0.5073 - accuracy: 0.8413\n",
      "Epoch 88/100\n",
      "42000/42000 [==============================] - 1s 31us/sample - loss: 0.5090 - accuracy: 0.8391\n",
      "Epoch 89/100\n",
      "42000/42000 [==============================] - 1s 29us/sample - loss: 0.5050 - accuracy: 0.8424\n",
      "Epoch 90/100\n",
      "42000/42000 [==============================] - 1s 31us/sample - loss: 0.5088 - accuracy: 0.8415\n",
      "Epoch 91/100\n",
      "42000/42000 [==============================] - 1s 30us/sample - loss: 0.5043 - accuracy: 0.8429\n",
      "Epoch 92/100\n",
      "42000/42000 [==============================] - 1s 31us/sample - loss: 0.5065 - accuracy: 0.8427\n",
      "Epoch 93/100\n",
      "42000/42000 [==============================] - 1s 31us/sample - loss: 0.5021 - accuracy: 0.8433\n",
      "Epoch 94/100\n",
      "42000/42000 [==============================] - 1s 30us/sample - loss: 0.4968 - accuracy: 0.8453\n",
      "Epoch 95/100\n",
      "42000/42000 [==============================] - 1s 31us/sample - loss: 0.4973 - accuracy: 0.8454\n",
      "Epoch 96/100\n",
      "42000/42000 [==============================] - 1s 31us/sample - loss: 0.4940 - accuracy: 0.8464\n",
      "Epoch 97/100\n",
      "42000/42000 [==============================] - 1s 31us/sample - loss: 0.4935 - accuracy: 0.8470\n",
      "Epoch 98/100\n",
      "42000/42000 [==============================] - 1s 31us/sample - loss: 0.4922 - accuracy: 0.8479\n",
      "Epoch 99/100\n",
      "42000/42000 [==============================] - 1s 31us/sample - loss: 0.4872 - accuracy: 0.8481\n",
      "Epoch 100/100\n",
      "42000/42000 [==============================] - 1s 30us/sample - loss: 0.4883 - accuracy: 0.8473\n"
     ]
    }
   ],
   "source": [
    "model = Sequential()\n",
    "model.add(Dense(50, input_shape = (1024, ), kernel_initializer='he_normal'))\n",
    "model.add(BatchNormalization())\n",
    "model.add(Activation('relu'))\n",
    "model.add(Dense(40, kernel_initializer='he_uniform'))\n",
    "model.add(BatchNormalization())\n",
    "model.add(Activation('relu'))\n",
    "model.add(Dense(30, kernel_initializer='he_uniform'))\n",
    "model.add(BatchNormalization())\n",
    "model.add(Activation('relu'))\n",
    "model.add(Dense(10, kernel_initializer='he_uniform'))\n",
    "model.add(Activation('softmax'))\n",
    "\n",
    "sgd = optimizers.SGD(lr = 0.01)\n",
    "model.compile(optimizer = sgd, loss = 'categorical_crossentropy', metrics = ['accuracy'])\n",
    "\n",
    "history = model.fit(X_train, y_train, batch_size = 200, epochs = 100, verbose = 1)"
   ]
  },
  {
   "cell_type": "code",
   "execution_count": 65,
   "metadata": {
    "colab": {
     "base_uri": "https://localhost:8080/",
     "height": 50
    },
    "colab_type": "code",
    "id": "xd6kbDQY7hSH",
    "outputId": "69c3ce42-e422-4c95-fca1-f3dc695ff580"
   },
   "outputs": [
    {
     "name": "stdout",
     "output_type": "stream",
     "text": [
      "18000/18000 [==============================] - 1s 58us/sample - loss: 0.7555 - accuracy: 0.7818\n",
      "Test accuracy:  0.7817778\n"
     ]
    }
   ],
   "source": [
    "results = model.evaluate(X_test, y_test)\n",
    "print('Test accuracy: ', results[1])"
   ]
  },
  {
   "cell_type": "markdown",
   "metadata": {
    "colab_type": "text",
    "id": "t3ZHnsj48coc"
   },
   "source": [
    "Batch Normalization boosted the accuracy a lot. Let's check if tuning Optimizer and learning rate can add further."
   ]
  },
  {
   "cell_type": "code",
   "execution_count": 96,
   "metadata": {
    "colab": {
     "base_uri": "https://localhost:8080/",
     "height": 1000
    },
    "colab_type": "code",
    "id": "zVeN2wWa7taA",
    "outputId": "5609ec46-525d-4662-e157-d04e8ba90e03"
   },
   "outputs": [
    {
     "name": "stdout",
     "output_type": "stream",
     "text": [
      "Train on 42000 samples\n",
      "Epoch 1/100\n",
      "42000/42000 [==============================] - 2s 47us/sample - loss: 1.6311 - accuracy: 0.4295\n",
      "Epoch 2/100\n",
      "42000/42000 [==============================] - 1s 27us/sample - loss: 1.0565 - accuracy: 0.6605\n",
      "Epoch 3/100\n",
      "42000/42000 [==============================] - 1s 27us/sample - loss: 0.8983 - accuracy: 0.7149\n",
      "Epoch 4/100\n",
      "42000/42000 [==============================] - 1s 27us/sample - loss: 0.8216 - accuracy: 0.7413\n",
      "Epoch 5/100\n",
      "42000/42000 [==============================] - 1s 26us/sample - loss: 0.7563 - accuracy: 0.7611\n",
      "Epoch 6/100\n",
      "42000/42000 [==============================] - 1s 26us/sample - loss: 0.7299 - accuracy: 0.7708\n",
      "Epoch 7/100\n",
      "42000/42000 [==============================] - 1s 28us/sample - loss: 0.6970 - accuracy: 0.7813\n",
      "Epoch 8/100\n",
      "42000/42000 [==============================] - 1s 28us/sample - loss: 0.6722 - accuracy: 0.7890\n",
      "Epoch 9/100\n",
      "42000/42000 [==============================] - 1s 27us/sample - loss: 0.6580 - accuracy: 0.7936\n",
      "Epoch 10/100\n",
      "42000/42000 [==============================] - 1s 27us/sample - loss: 0.6341 - accuracy: 0.8001\n",
      "Epoch 11/100\n",
      "42000/42000 [==============================] - 1s 27us/sample - loss: 0.6177 - accuracy: 0.8065\n",
      "Epoch 12/100\n",
      "42000/42000 [==============================] - 1s 27us/sample - loss: 0.5959 - accuracy: 0.8126\n",
      "Epoch 13/100\n",
      "42000/42000 [==============================] - 1s 27us/sample - loss: 0.5916 - accuracy: 0.8140\n",
      "Epoch 14/100\n",
      "42000/42000 [==============================] - 1s 27us/sample - loss: 0.5770 - accuracy: 0.8195\n",
      "Epoch 15/100\n",
      "42000/42000 [==============================] - 1s 27us/sample - loss: 0.5706 - accuracy: 0.8208\n",
      "Epoch 16/100\n",
      "42000/42000 [==============================] - 1s 26us/sample - loss: 0.5644 - accuracy: 0.8225\n",
      "Epoch 17/100\n",
      "42000/42000 [==============================] - 1s 27us/sample - loss: 0.5560 - accuracy: 0.8253\n",
      "Epoch 18/100\n",
      "42000/42000 [==============================] - 1s 27us/sample - loss: 0.5402 - accuracy: 0.8290\n",
      "Epoch 19/100\n",
      "42000/42000 [==============================] - 1s 28us/sample - loss: 0.5376 - accuracy: 0.8295\n",
      "Epoch 20/100\n",
      "42000/42000 [==============================] - 1s 27us/sample - loss: 0.5286 - accuracy: 0.8344\n",
      "Epoch 21/100\n",
      "42000/42000 [==============================] - 1s 28us/sample - loss: 0.5270 - accuracy: 0.8329\n",
      "Epoch 22/100\n",
      "42000/42000 [==============================] - 1s 26us/sample - loss: 0.5211 - accuracy: 0.8372\n",
      "Epoch 23/100\n",
      "42000/42000 [==============================] - 1s 27us/sample - loss: 0.5153 - accuracy: 0.8372\n",
      "Epoch 24/100\n",
      "42000/42000 [==============================] - 1s 26us/sample - loss: 0.5049 - accuracy: 0.8411\n",
      "Epoch 25/100\n",
      "42000/42000 [==============================] - 1s 26us/sample - loss: 0.5063 - accuracy: 0.8387\n",
      "Epoch 26/100\n",
      "42000/42000 [==============================] - 1s 27us/sample - loss: 0.4998 - accuracy: 0.8417\n",
      "Epoch 27/100\n",
      "42000/42000 [==============================] - 1s 27us/sample - loss: 0.5034 - accuracy: 0.8403\n",
      "Epoch 28/100\n",
      "42000/42000 [==============================] - 1s 27us/sample - loss: 0.4956 - accuracy: 0.8431\n",
      "Epoch 29/100\n",
      "42000/42000 [==============================] - 1s 27us/sample - loss: 0.4890 - accuracy: 0.8454\n",
      "Epoch 30/100\n",
      "42000/42000 [==============================] - 1s 27us/sample - loss: 0.4836 - accuracy: 0.8469\n",
      "Epoch 31/100\n",
      "42000/42000 [==============================] - 1s 27us/sample - loss: 0.4735 - accuracy: 0.8498\n",
      "Epoch 32/100\n",
      "42000/42000 [==============================] - 1s 27us/sample - loss: 0.4758 - accuracy: 0.8484\n",
      "Epoch 33/100\n",
      "42000/42000 [==============================] - 1s 27us/sample - loss: 0.4762 - accuracy: 0.8503\n",
      "Epoch 34/100\n",
      "42000/42000 [==============================] - 1s 27us/sample - loss: 0.4669 - accuracy: 0.8520\n",
      "Epoch 35/100\n",
      "42000/42000 [==============================] - 1s 27us/sample - loss: 0.4655 - accuracy: 0.8519\n",
      "Epoch 36/100\n",
      "42000/42000 [==============================] - 1s 28us/sample - loss: 0.4614 - accuracy: 0.8513\n",
      "Epoch 37/100\n",
      "42000/42000 [==============================] - 1s 27us/sample - loss: 0.4602 - accuracy: 0.8534\n",
      "Epoch 38/100\n",
      "42000/42000 [==============================] - 1s 27us/sample - loss: 0.4547 - accuracy: 0.8550\n",
      "Epoch 39/100\n",
      "42000/42000 [==============================] - 1s 27us/sample - loss: 0.4534 - accuracy: 0.8546\n",
      "Epoch 40/100\n",
      "42000/42000 [==============================] - 1s 27us/sample - loss: 0.4566 - accuracy: 0.8540\n",
      "Epoch 41/100\n",
      "42000/42000 [==============================] - 1s 28us/sample - loss: 0.4491 - accuracy: 0.8585\n",
      "Epoch 42/100\n",
      "42000/42000 [==============================] - 1s 27us/sample - loss: 0.4458 - accuracy: 0.8599\n",
      "Epoch 43/100\n",
      "42000/42000 [==============================] - 1s 26us/sample - loss: 0.4436 - accuracy: 0.8592\n",
      "Epoch 44/100\n",
      "42000/42000 [==============================] - 1s 27us/sample - loss: 0.4387 - accuracy: 0.8585\n",
      "Epoch 45/100\n",
      "42000/42000 [==============================] - 1s 27us/sample - loss: 0.4373 - accuracy: 0.8586\n",
      "Epoch 46/100\n",
      "42000/42000 [==============================] - 1s 28us/sample - loss: 0.4382 - accuracy: 0.8603\n",
      "Epoch 47/100\n",
      "42000/42000 [==============================] - 1s 26us/sample - loss: 0.4348 - accuracy: 0.8612\n",
      "Epoch 48/100\n",
      "42000/42000 [==============================] - 1s 27us/sample - loss: 0.4357 - accuracy: 0.8595\n",
      "Epoch 49/100\n",
      "42000/42000 [==============================] - 1s 27us/sample - loss: 0.4282 - accuracy: 0.8613\n",
      "Epoch 50/100\n",
      "42000/42000 [==============================] - 1s 29us/sample - loss: 0.4281 - accuracy: 0.8637\n",
      "Epoch 51/100\n",
      "42000/42000 [==============================] - 1s 29us/sample - loss: 0.4235 - accuracy: 0.8644\n",
      "Epoch 52/100\n",
      "42000/42000 [==============================] - 1s 27us/sample - loss: 0.4271 - accuracy: 0.8632\n",
      "Epoch 53/100\n",
      "42000/42000 [==============================] - 1s 28us/sample - loss: 0.4212 - accuracy: 0.8655\n",
      "Epoch 54/100\n",
      "42000/42000 [==============================] - 1s 26us/sample - loss: 0.4216 - accuracy: 0.8643\n",
      "Epoch 55/100\n",
      "42000/42000 [==============================] - 1s 27us/sample - loss: 0.4176 - accuracy: 0.8660\n",
      "Epoch 56/100\n",
      "42000/42000 [==============================] - 1s 27us/sample - loss: 0.4161 - accuracy: 0.8659\n",
      "Epoch 57/100\n",
      "42000/42000 [==============================] - 1s 27us/sample - loss: 0.4153 - accuracy: 0.8672\n",
      "Epoch 58/100\n",
      "42000/42000 [==============================] - 1s 27us/sample - loss: 0.4076 - accuracy: 0.8694\n",
      "Epoch 59/100\n",
      "42000/42000 [==============================] - 1s 27us/sample - loss: 0.4098 - accuracy: 0.8693\n",
      "Epoch 60/100\n",
      "42000/42000 [==============================] - 1s 28us/sample - loss: 0.4062 - accuracy: 0.8693\n",
      "Epoch 61/100\n",
      "42000/42000 [==============================] - 1s 27us/sample - loss: 0.4048 - accuracy: 0.8689\n",
      "Epoch 62/100\n",
      "42000/42000 [==============================] - 1s 26us/sample - loss: 0.4010 - accuracy: 0.8700\n",
      "Epoch 63/100\n",
      "42000/42000 [==============================] - 1s 26us/sample - loss: 0.4060 - accuracy: 0.8684\n",
      "Epoch 64/100\n",
      "42000/42000 [==============================] - 1s 28us/sample - loss: 0.4042 - accuracy: 0.8705\n",
      "Epoch 65/100\n",
      "42000/42000 [==============================] - 1s 27us/sample - loss: 0.4021 - accuracy: 0.8707\n",
      "Epoch 66/100\n",
      "42000/42000 [==============================] - 1s 27us/sample - loss: 0.4023 - accuracy: 0.8697\n",
      "Epoch 67/100\n",
      "42000/42000 [==============================] - 1s 27us/sample - loss: 0.3981 - accuracy: 0.8730\n",
      "Epoch 68/100\n",
      "42000/42000 [==============================] - 1s 26us/sample - loss: 0.3925 - accuracy: 0.8739\n",
      "Epoch 69/100\n",
      "42000/42000 [==============================] - 1s 27us/sample - loss: 0.4017 - accuracy: 0.8706\n",
      "Epoch 70/100\n",
      "42000/42000 [==============================] - 1s 27us/sample - loss: 0.3955 - accuracy: 0.8725\n",
      "Epoch 71/100\n",
      "42000/42000 [==============================] - 1s 27us/sample - loss: 0.3922 - accuracy: 0.8744\n",
      "Epoch 72/100\n",
      "42000/42000 [==============================] - 1s 27us/sample - loss: 0.3917 - accuracy: 0.8743\n",
      "Epoch 73/100\n",
      "42000/42000 [==============================] - 1s 27us/sample - loss: 0.3842 - accuracy: 0.8762\n",
      "Epoch 74/100\n",
      "42000/42000 [==============================] - 1s 28us/sample - loss: 0.3899 - accuracy: 0.8734\n",
      "Epoch 75/100\n",
      "42000/42000 [==============================] - 1s 27us/sample - loss: 0.3788 - accuracy: 0.8771\n",
      "Epoch 76/100\n",
      "42000/42000 [==============================] - 1s 26us/sample - loss: 0.3812 - accuracy: 0.8771\n",
      "Epoch 77/100\n",
      "42000/42000 [==============================] - 1s 27us/sample - loss: 0.3853 - accuracy: 0.8755\n",
      "Epoch 78/100\n",
      "42000/42000 [==============================] - 1s 27us/sample - loss: 0.3819 - accuracy: 0.8770\n",
      "Epoch 79/100\n",
      "42000/42000 [==============================] - 1s 27us/sample - loss: 0.3808 - accuracy: 0.8758\n",
      "Epoch 80/100\n",
      "42000/42000 [==============================] - 1s 27us/sample - loss: 0.3805 - accuracy: 0.8779\n",
      "Epoch 81/100\n",
      "42000/42000 [==============================] - 1s 27us/sample - loss: 0.3742 - accuracy: 0.8788\n",
      "Epoch 82/100\n",
      "42000/42000 [==============================] - 1s 27us/sample - loss: 0.3810 - accuracy: 0.8770\n",
      "Epoch 83/100\n",
      "42000/42000 [==============================] - 1s 28us/sample - loss: 0.3818 - accuracy: 0.8763\n",
      "Epoch 84/100\n",
      "42000/42000 [==============================] - 1s 27us/sample - loss: 0.3772 - accuracy: 0.8792\n",
      "Epoch 85/100\n",
      "42000/42000 [==============================] - 1s 29us/sample - loss: 0.3701 - accuracy: 0.8799\n",
      "Epoch 86/100\n",
      "42000/42000 [==============================] - 1s 27us/sample - loss: 0.3804 - accuracy: 0.8765\n",
      "Epoch 87/100\n",
      "42000/42000 [==============================] - 1s 27us/sample - loss: 0.3703 - accuracy: 0.8797\n",
      "Epoch 88/100\n",
      "42000/42000 [==============================] - 1s 27us/sample - loss: 0.3684 - accuracy: 0.8819\n",
      "Epoch 89/100\n",
      "42000/42000 [==============================] - 1s 27us/sample - loss: 0.3717 - accuracy: 0.8807\n",
      "Epoch 90/100\n",
      "42000/42000 [==============================] - 1s 27us/sample - loss: 0.3662 - accuracy: 0.8831\n",
      "Epoch 91/100\n",
      "42000/42000 [==============================] - 1s 27us/sample - loss: 0.3605 - accuracy: 0.8840\n",
      "Epoch 92/100\n",
      "42000/42000 [==============================] - 1s 27us/sample - loss: 0.3735 - accuracy: 0.8791\n",
      "Epoch 93/100\n",
      "42000/42000 [==============================] - 1s 29us/sample - loss: 0.3681 - accuracy: 0.8818\n",
      "Epoch 94/100\n",
      "42000/42000 [==============================] - 1s 27us/sample - loss: 0.3719 - accuracy: 0.8804\n",
      "Epoch 95/100\n",
      "42000/42000 [==============================] - 1s 28us/sample - loss: 0.3704 - accuracy: 0.8794\n",
      "Epoch 96/100\n",
      "42000/42000 [==============================] - 1s 26us/sample - loss: 0.3627 - accuracy: 0.8829\n",
      "Epoch 97/100\n",
      "42000/42000 [==============================] - 1s 27us/sample - loss: 0.3675 - accuracy: 0.8806\n",
      "Epoch 98/100\n",
      "42000/42000 [==============================] - 1s 27us/sample - loss: 0.3595 - accuracy: 0.8833\n",
      "Epoch 99/100\n",
      "42000/42000 [==============================] - 1s 27us/sample - loss: 0.3582 - accuracy: 0.8840\n",
      "Epoch 100/100\n",
      "42000/42000 [==============================] - 1s 26us/sample - loss: 0.3583 - accuracy: 0.8846\n"
     ]
    }
   ],
   "source": [
    "model = Sequential()\n",
    "model.add(Dense(50, input_shape = (1024, ), kernel_initializer='he_normal'))\n",
    "model.add(BatchNormalization())\n",
    "model.add(Activation('relu'))\n",
    "model.add(Dense(40, kernel_initializer='he_uniform'))\n",
    "model.add(BatchNormalization())\n",
    "model.add(Activation('relu'))\n",
    "model.add(Dense(30, kernel_initializer='he_uniform'))\n",
    "model.add(BatchNormalization())\n",
    "model.add(Activation('relu'))\n",
    "model.add(Dense(10, kernel_initializer='he_uniform'))\n",
    "model.add(Activation('softmax'))\n",
    "\n",
    "sgd = optimizers.Adam(lr = 0.01)\n",
    "model.compile(optimizer = sgd, loss = 'categorical_crossentropy', metrics = ['accuracy'])\n",
    "\n",
    "history = model.fit(X_train, y_train, batch_size = 200, epochs = 100, verbose = 1)"
   ]
  },
  {
   "cell_type": "code",
   "execution_count": 83,
   "metadata": {
    "colab": {
     "base_uri": "https://localhost:8080/",
     "height": 50
    },
    "colab_type": "code",
    "id": "_LIeDPo78zrr",
    "outputId": "d17e0408-5eee-465f-aafd-f0808732587d"
   },
   "outputs": [
    {
     "name": "stdout",
     "output_type": "stream",
     "text": [
      "18000/18000 [==============================] - 1s 54us/sample - loss: 0.8052 - accuracy: 0.7792\n",
      "Test accuracy:  0.77916664\n"
     ]
    }
   ],
   "source": [
    "results = model.evaluate(X_test, y_test)\n",
    "print('Test accuracy: ', results[1])"
   ]
  },
  {
   "cell_type": "markdown",
   "metadata": {
    "colab_type": "text",
    "id": "w8fv_rPHMx4I"
   },
   "source": [
    "Let's the prediction vs actual for a random data in test set"
   ]
  },
  {
   "cell_type": "code",
   "execution_count": 0,
   "metadata": {
    "colab": {},
    "colab_type": "code",
    "id": "F5VzUkI4JEJQ"
   },
   "outputs": [],
   "source": [
    "y_predict = model.predict(X_test)"
   ]
  },
  {
   "cell_type": "code",
   "execution_count": 124,
   "metadata": {
    "colab": {
     "base_uri": "https://localhost:8080/",
     "height": 229
    },
    "colab_type": "code",
    "id": "6pfAsErIKXN-",
    "outputId": "deb6cb0e-4113-40d9-eba7-8e83cb7d0a9d"
   },
   "outputs": [
    {
     "data": {
      "image/png": "[encoded data removed]",
      "text/plain": [
       "<Figure size 216x216 with 1 Axes>"
      ]
     },
     "metadata": {
      "tags": []
     },
     "output_type": "display_data"
    },
    {
     "name": "stdout",
     "output_type": "stream",
     "text": [
      "Label:  [1. 0. 0. 0. 0. 0. 0. 0. 0. 0.]\n"
     ]
    }
   ],
   "source": [
    "X_test_plt = X_test.reshape(X_test.shape[0], 32,32)\n",
    "plt.figure(figsize=(3, 3))\n",
    "plt.imshow(X_test_plt[968], cmap=\"gray\")    \n",
    "plt.show()\n",
    "print('Label: ', y_test[968])"
   ]
  },
  {
   "cell_type": "code",
   "execution_count": 122,
   "metadata": {
    "colab": {
     "base_uri": "https://localhost:8080/",
     "height": 67
    },
    "colab_type": "code",
    "id": "CGvM1MRQJ9ot",
    "outputId": "fc635999-3b1d-496c-f8e7-914f164eac4e"
   },
   "outputs": [
    {
     "data": {
      "text/plain": [
       "array([1.0000000e+00, 5.1972846e-11, 5.8658614e-16, 3.2799264e-14,\n",
       "       2.8898500e-12, 2.3565907e-15, 1.0591713e-09, 4.5593286e-12,\n",
       "       3.0892105e-13, 2.1719824e-08], dtype=float32)"
      ]
     },
     "execution_count": 122,
     "metadata": {
      "tags": []
     },
     "output_type": "execute_result"
    }
   ],
   "source": [
    "y_predict[968]"
   ]
  },
  {
   "cell_type": "markdown",
   "metadata": {
    "colab_type": "text",
    "id": "9dsvJnrzNJAp"
   },
   "source": [
    "Conclusion: For this dataset, traditional approach like KNN seemed very ineffective in terms of prediction as well as performance. \n",
    "It took 20 mins for KNN to run for a specific k while all Neural Networks ran within 1-2 min. The accuracy in KNN was around 35-40% for the test set while for Neural Networks it went to close to 80% for the test data set. So, we can conclude here that Neural Networks are more suited for datasets like SVHN datasets."
   ]
  },
  {
   "cell_type": "code",
   "execution_count": 0,
   "metadata": {
    "colab": {},
    "colab_type": "code",
    "id": "kA-YiOYcNu7q"
   },
   "outputs": [],
   "source": []
  }
 ],
 "metadata": {
  "colab": {
   "collapsed_sections": [],
   "name": "ProjectNeuralNetworks.ipynb",
   "provenance": []
  },
  "kernelspec": {
   "display_name": "Python 3",
   "language": "python",
   "name": "python3"
  },
  "language_info": {
   "codemirror_mode": {
    "name": "ipython",
    "version": 3
   },
   "file_extension": ".py",
   "mimetype": "text/x-python",
   "name": "python",
   "nbconvert_exporter": "python",
   "pygments_lexer": "ipython3",
   "version": "3.7.3"
  }
 },
 "nbformat": 4,
 "nbformat_minor": 1
}
